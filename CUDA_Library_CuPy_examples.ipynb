{
  "nbformat": 4,
  "nbformat_minor": 0,
  "metadata": {
    "colab": {
      "provenance": [],
      "gpuType": "T4"
    },
    "kernelspec": {
      "name": "python3",
      "display_name": "Python 3"
    },
    "language_info": {
      "name": "python"
    },
    "accelerator": "GPU"
  },
  "cells": [
    {
      "cell_type": "code",
      "execution_count": 1,
      "metadata": {
        "id": "4oBIo7UpfvHT"
      },
      "outputs": [],
      "source": [
        "import numpy as np\n",
        "import cupy as cp"
      ]
    },
    {
      "cell_type": "markdown",
      "source": [
        "## Fast Fourier Transform (FFT)\n",
        "\n",
        "CuPy offers the fft -library to make fast Fourier transforms."
      ],
      "metadata": {
        "id": "tQ0IflgZgDle"
      }
    },
    {
      "cell_type": "markdown",
      "source": [
        "Lets test it and create couple of arrays."
      ],
      "metadata": {
        "id": "cYpbhs8Dmt5t"
      }
    },
    {
      "cell_type": "code",
      "source": [
        "a_cpu = np.array([1, 2, 3, 4, 5])\n",
        "a_gpu = cp.array([1, 2, 3, 4, 5])\n"
      ],
      "metadata": {
        "id": "0bGPU30ugjhD"
      },
      "execution_count": 2,
      "outputs": []
    },
    {
      "cell_type": "markdown",
      "source": [
        "Using the NumPys fft() function, calculate the Fourier Transform"
      ],
      "metadata": {
        "id": "fW22xrfVhg_2"
      }
    },
    {
      "cell_type": "code",
      "source": [
        "fourier_cpu = np.fft.fft(a_cpu)"
      ],
      "metadata": {
        "id": "_beqXxV_g1dm"
      },
      "execution_count": 3,
      "outputs": []
    },
    {
      "cell_type": "markdown",
      "source": [
        "Using the CuPys fft() function, calculate the Fourier Transform"
      ],
      "metadata": {
        "id": "2EX2Nxsmhr6M"
      }
    },
    {
      "cell_type": "code",
      "source": [
        "fourier_gpu = cp.fft.fft(a_gpu)"
      ],
      "metadata": {
        "id": "y31gncC_g_D3"
      },
      "execution_count": 4,
      "outputs": []
    },
    {
      "cell_type": "markdown",
      "source": [
        "Print the results."
      ],
      "metadata": {
        "id": "MJ54ujNdhxoN"
      }
    },
    {
      "cell_type": "code",
      "source": [
        "print(fourier_cpu)\n",
        "print(fourier_gpu)"
      ],
      "metadata": {
        "colab": {
          "base_uri": "https://localhost:8080/"
        },
        "id": "eXWYsOLkhITE",
        "outputId": "a5252b8a-81a8-41f9-f692-913bdcd53221"
      },
      "execution_count": 5,
      "outputs": [
        {
          "output_type": "stream",
          "name": "stdout",
          "text": [
            "[15. +0.j         -2.5+3.4409548j  -2.5+0.81229924j -2.5-0.81229924j\n",
            " -2.5-3.4409548j ]\n",
            "[15. +0.j         -2.5+3.4409548j  -2.5+0.81229924j -2.5-0.81229924j\n",
            " -2.5-3.4409548j ]\n"
          ]
        }
      ]
    },
    {
      "cell_type": "markdown",
      "source": [
        "Seems about the same."
      ],
      "metadata": {
        "id": "6gIQZLbQjST8"
      }
    },
    {
      "cell_type": "markdown",
      "source": [
        "How about the speed difference?\n",
        "\n",
        "Lets check with an array of million values."
      ],
      "metadata": {
        "id": "09_5Hso2iAy0"
      }
    },
    {
      "cell_type": "code",
      "source": [
        "a_cpu = np.random.randn(10**6)\n",
        "a_gpu = cp.random.randn(10**6)"
      ],
      "metadata": {
        "id": "JkcW7uBPiAak"
      },
      "execution_count": 6,
      "outputs": []
    },
    {
      "cell_type": "code",
      "source": [
        "%%timeit\n",
        "fourier_cpu = np.fft.fft(a_cpu)"
      ],
      "metadata": {
        "colab": {
          "base_uri": "https://localhost:8080/"
        },
        "id": "jjIF93T2iZxD",
        "outputId": "99aca2e5-6db2-460a-ceb5-23c163bc9066"
      },
      "execution_count": 7,
      "outputs": [
        {
          "output_type": "stream",
          "name": "stdout",
          "text": [
            "42.8 ms ± 1.67 ms per loop (mean ± std. dev. of 7 runs, 10 loops each)\n"
          ]
        }
      ]
    },
    {
      "cell_type": "code",
      "source": [
        "%%timeit\n",
        "fourier_gpu = cp.fft.fft(a_gpu)"
      ],
      "metadata": {
        "colab": {
          "base_uri": "https://localhost:8080/"
        },
        "id": "5xyoydvSidLW",
        "outputId": "1c5528bc-7615-4a90-af6b-e1eadcb74a65"
      },
      "execution_count": 8,
      "outputs": [
        {
          "output_type": "stream",
          "name": "stdout",
          "text": [
            "1.29 ms ± 2.38 µs per loop (mean ± std. dev. of 7 runs, 1000 loops each)\n"
          ]
        }
      ]
    },
    {
      "cell_type": "markdown",
      "source": [
        "Seems like already quite a good performance improvement."
      ],
      "metadata": {
        "id": "GTi2oiS0i-8B"
      }
    },
    {
      "cell_type": "code",
      "source": [],
      "metadata": {
        "id": "NxLIlIYHjMid"
      },
      "execution_count": 8,
      "outputs": []
    },
    {
      "cell_type": "markdown",
      "source": [
        "## Sparse matrices\n",
        "\n",
        "To work with sparse matrices, CuPy offers the cupyx.scipy.sparse -library"
      ],
      "metadata": {
        "id": "l3QzKEyvlT79"
      }
    },
    {
      "cell_type": "code",
      "source": [
        "import cupy as cp\n",
        "import cupyx as cpx\n"
      ],
      "metadata": {
        "id": "6BiWXOUse3iY"
      },
      "execution_count": 9,
      "outputs": []
    },
    {
      "cell_type": "markdown",
      "source": [
        "Lets create a dense matrix."
      ],
      "metadata": {
        "id": "k07uwNgM805U"
      }
    },
    {
      "cell_type": "code",
      "source": [
        "arr = cp.array([[0, 0, 0, 0, 0, 1, 1, 0, 2],[0, 7, 0, 4, 0, 1, 1, 0, 2]], dtype=np.float64)\n",
        "print(arr)"
      ],
      "metadata": {
        "colab": {
          "base_uri": "https://localhost:8080/"
        },
        "id": "04xLjj3586mm",
        "outputId": "52c85f61-76fc-4b56-fe0c-c193bc78a961"
      },
      "execution_count": 10,
      "outputs": [
        {
          "output_type": "stream",
          "name": "stdout",
          "text": [
            "[[0. 0. 0. 0. 0. 1. 1. 0. 2.]\n",
            " [0. 7. 0. 4. 0. 1. 1. 0. 2.]]\n"
          ]
        }
      ]
    },
    {
      "cell_type": "markdown",
      "source": [
        "We can now use the sparse library to convert it into the COO-format."
      ],
      "metadata": {
        "id": "qoGKN4Yn97Oj"
      }
    },
    {
      "cell_type": "code",
      "source": [
        "arr_coo = cpx.scipy.sparse.coo_matrix(arr)\n",
        "print(arr_coo)"
      ],
      "metadata": {
        "colab": {
          "base_uri": "https://localhost:8080/"
        },
        "id": "V-lZ86ub3-vM",
        "outputId": "23ef25b2-88d0-4087-9bbf-0e5e11efa895"
      },
      "execution_count": 11,
      "outputs": [
        {
          "output_type": "stream",
          "name": "stdout",
          "text": [
            "  (0, 5)\t1.0\n",
            "  (0, 6)\t1.0\n",
            "  (0, 8)\t2.0\n",
            "  (1, 1)\t7.0\n",
            "  (1, 3)\t4.0\n",
            "  (1, 5)\t1.0\n",
            "  (1, 6)\t1.0\n",
            "  (1, 8)\t2.0\n"
          ]
        }
      ]
    },
    {
      "cell_type": "markdown",
      "source": [
        "The sparse library allows us also to create random sparse matrices."
      ],
      "metadata": {
        "id": "ltPlCiph-H2Z"
      }
    },
    {
      "cell_type": "code",
      "source": [
        "arr = cpx.scipy.sparse.rand(5, 5, density=0.3)\n",
        "print(type(arr))\n",
        "print(arr)"
      ],
      "metadata": {
        "colab": {
          "base_uri": "https://localhost:8080/"
        },
        "id": "OyTI6_ndfgA3",
        "outputId": "98d7351d-4775-4972-8782-fe5302a313e3"
      },
      "execution_count": 12,
      "outputs": [
        {
          "output_type": "stream",
          "name": "stdout",
          "text": [
            "<class 'cupyx.scipy.sparse._coo.coo_matrix'>\n",
            "  (0, 3)\t0.20003036440584637\n",
            "  (1, 2)\t0.15719355677507568\n",
            "  (3, 3)\t0.21528667638850835\n",
            "  (2, 3)\t0.0295052730802024\n",
            "  (3, 4)\t0.20567788988132735\n",
            "  (2, 2)\t0.3201104800818669\n",
            "  (2, 4)\t0.5621865572034708\n"
          ]
        }
      ]
    },
    {
      "cell_type": "markdown",
      "source": [
        "If we want to see it in the \"normal\" format. We can use the .todense() method."
      ],
      "metadata": {
        "id": "p6Cvnftq-PaK"
      }
    },
    {
      "cell_type": "code",
      "source": [
        "arr.todense()"
      ],
      "metadata": {
        "colab": {
          "base_uri": "https://localhost:8080/"
        },
        "id": "zoBkt5WSflLX",
        "outputId": "fd0cacc6-2d92-4cf0-fcc6-e9ee518d396c"
      },
      "execution_count": 13,
      "outputs": [
        {
          "output_type": "execute_result",
          "data": {
            "text/plain": [
              "array([[0.        , 0.        , 0.        , 0.20003036, 0.        ],\n",
              "       [0.        , 0.        , 0.15719356, 0.        , 0.        ],\n",
              "       [0.        , 0.        , 0.32011048, 0.02950527, 0.56218656],\n",
              "       [0.        , 0.        , 0.        , 0.21528668, 0.20567789],\n",
              "       [0.        , 0.        , 0.        , 0.        , 0.        ]])"
            ]
          },
          "metadata": {},
          "execution_count": 13
        }
      ]
    },
    {
      "cell_type": "markdown",
      "source": [
        "Want to see all the elements with non zero values? No problem. Use the .data property."
      ],
      "metadata": {
        "id": "cJttLVua-ZaO"
      }
    },
    {
      "cell_type": "code",
      "source": [
        "print(arr.data)"
      ],
      "metadata": {
        "colab": {
          "base_uri": "https://localhost:8080/"
        },
        "id": "RZXJP-jdfQFA",
        "outputId": "06fa9ad7-a5df-4e97-e02e-cfc6c6094e49"
      },
      "execution_count": 14,
      "outputs": [
        {
          "output_type": "stream",
          "name": "stdout",
          "text": [
            "[0.20003036 0.15719356 0.21528668 0.02950527 0.20567789 0.32011048\n",
            " 0.56218656]\n"
          ]
        }
      ]
    },
    {
      "cell_type": "markdown",
      "source": [
        "It is also possible to convert the sparse matrix from one format to another. For example, to the csr-format by using the csr_matrix() -function."
      ],
      "metadata": {
        "id": "uDpHd5K0-omj"
      }
    },
    {
      "cell_type": "code",
      "source": [
        "arr_csr = cpx.scipy.sparse.csr_matrix(arr)\n",
        "print(type(arr_csr))\n",
        "print(arr_csr)"
      ],
      "metadata": {
        "colab": {
          "base_uri": "https://localhost:8080/"
        },
        "id": "Tk1u_CfUfbou",
        "outputId": "bb9f39b6-54cf-47dd-bd51-bfbf19a18192"
      },
      "execution_count": 15,
      "outputs": [
        {
          "output_type": "stream",
          "name": "stdout",
          "text": [
            "<class 'cupyx.scipy.sparse._csr.csr_matrix'>\n",
            "  (0, 3)\t0.20003036440584637\n",
            "  (1, 2)\t0.15719355677507568\n",
            "  (2, 2)\t0.3201104800818669\n",
            "  (2, 3)\t0.0295052730802024\n",
            "  (2, 4)\t0.5621865572034708\n",
            "  (3, 3)\t0.21528667638850835\n",
            "  (3, 4)\t0.20567788988132735\n"
          ]
        }
      ]
    },
    {
      "cell_type": "markdown",
      "source": [
        "Note that the values are still printed in COO-format, since this is a bit more viewer-friendly way of doing it."
      ],
      "metadata": {
        "id": "3R7LPV72-49c"
      }
    },
    {
      "cell_type": "markdown",
      "source": [
        "How about operations?"
      ],
      "metadata": {
        "id": "xV7nAL0FW7cK"
      }
    },
    {
      "cell_type": "code",
      "source": [
        "A = cp.array([[1, 2, 0], [0, 0, 3], [4, 0, 5]], dtype=np.float64)\n",
        "A_csr = cpx.scipy.sparse.csr_matrix(A)\n",
        "\n",
        "v = cp.array([1, 0, -1])\n",
        "\n",
        "A_csr.dot(v)"
      ],
      "metadata": {
        "colab": {
          "base_uri": "https://localhost:8080/"
        },
        "id": "ZWQ9r0eGWFqH",
        "outputId": "3c6b0489-0b71-42c3-856d-629c6273bd38"
      },
      "execution_count": 16,
      "outputs": [
        {
          "output_type": "execute_result",
          "data": {
            "text/plain": [
              "array([ 1., -3., -1.])"
            ]
          },
          "metadata": {},
          "execution_count": 16
        }
      ]
    },
    {
      "cell_type": "markdown",
      "source": [
        "## Random\n",
        "\n",
        "For generation of random values, CuPy offers the random-library which is working on top of the NVidias cuRAND accelerated library."
      ],
      "metadata": {
        "id": "DyFJeV_oc-a0"
      }
    },
    {
      "cell_type": "code",
      "source": [
        "import cupy as cp\n",
        "\n",
        "# generate random integer from 0 to 9\n",
        "random_number = cp.random.randint(0, 10)\n",
        "\n",
        "print(random_number)"
      ],
      "metadata": {
        "colab": {
          "base_uri": "https://localhost:8080/"
        },
        "id": "qg_fIRJFML2Y",
        "outputId": "fdc6f660-75d3-4437-8252-c81baa8f8ee2"
      },
      "execution_count": 17,
      "outputs": [
        {
          "output_type": "stream",
          "name": "stdout",
          "text": [
            "0\n"
          ]
        }
      ]
    },
    {
      "cell_type": "code",
      "source": [
        "# generate random float-point number between 0 and 1\n",
        "random_number = cp.random.rand()\n",
        "\n",
        "print(random_number)"
      ],
      "metadata": {
        "colab": {
          "base_uri": "https://localhost:8080/"
        },
        "id": "pka4z4KeMcUY",
        "outputId": "72d5b337-320d-4d86-a09c-4eb6f2512277"
      },
      "execution_count": 18,
      "outputs": [
        {
          "output_type": "stream",
          "name": "stdout",
          "text": [
            "0.2599208077327239\n"
          ]
        }
      ]
    },
    {
      "cell_type": "code",
      "source": [
        "# generate 1D array of 5 random integers between 0 and 9\n",
        "integer_array = cp.random.randint(0, 10, 5)\n",
        "\n",
        "print(\"1D Random Integer Array:\\n\",integer_array)\n",
        "\n",
        "# generate 1D array of 5 random numbers between 0 and 1\n",
        "float_array = cp.random.rand(5)\n",
        "\n",
        "print(\"\\n1D Random Float Array:\\n\",float_array)\n",
        "\n",
        "# generate 2D array of shape (3, 4) with random integers\n",
        "result = cp.random.randint(0, 10, (3,4))\n",
        "\n",
        "print(\"\\n2D Random Integer Array:\\n\",result)"
      ],
      "metadata": {
        "colab": {
          "base_uri": "https://localhost:8080/"
        },
        "id": "0mGZdxxZMlCQ",
        "outputId": "16dc785a-d468-4b77-c9c9-77ee8a341788"
      },
      "execution_count": 19,
      "outputs": [
        {
          "output_type": "stream",
          "name": "stdout",
          "text": [
            "1D Random Integer Array:\n",
            " [5 7 0 4 0]\n",
            "\n",
            "1D Random Float Array:\n",
            " [0.40192731 0.71384671 0.62001214 0.2684872  0.64694475]\n",
            "\n",
            "2D Random Integer Array:\n",
            " [[8 4 8 6]\n",
            " [5 5 1 9]\n",
            " [1 8 8 8]]\n"
          ]
        }
      ]
    },
    {
      "cell_type": "code",
      "source": [
        "# create an array of integers from 1 to 5\n",
        "array1 = cp.array([1, 2, 3, 4, 5])\n",
        "\n",
        "# choose a random number from array1. CuPy specific, need to specify size.\n",
        "random_choice = cp.random.choice(array1,size=1)\n",
        "\n",
        "print(random_choice)"
      ],
      "metadata": {
        "colab": {
          "base_uri": "https://localhost:8080/"
        },
        "id": "H_bSdLaNMxKP",
        "outputId": "58469e10-b041-4338-e0e8-8cfb12989f26"
      },
      "execution_count": 20,
      "outputs": [
        {
          "output_type": "stream",
          "name": "stdout",
          "text": [
            "[3]\n"
          ]
        }
      ]
    }
  ]
}