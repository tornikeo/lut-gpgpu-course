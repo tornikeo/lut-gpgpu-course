<!DOCTYPE html>

<html  dir="ltr" lang="en" xml:lang="en">
<head>
    <title>Log in to the site | LUT-korkeakoulut</title>
    <link rel="shortcut icon" href="https://moodle.lut.fi/theme/image.php/maker/theme/1704172985/favicon" />
    
	    <link href="https://fonts.googleapis.com/icon?family=Material+Icons" rel="stylesheet" />
	
	    <link href="https://fonts.googleapis.com/css?family=Montserrat:300,400,500,700" rel="stylesheet" />
	    
	    <link href="https://fonts.googleapis.com/css?family=Montserrat:300,400,500,700" rel="stylesheet" />
    
	
    
    <meta http-equiv="Content-Type" content="text/html; charset=utf-8" />
<meta name="keywords" content="moodle, Log in to the site | LUT-korkeakoulut" />
<link rel="stylesheet" type="text/css" href="https://moodle.lut.fi/theme/yui_combo.php?rollup/3.17.2/yui-moodlesimple-min.css" /><script id="firstthemesheet" type="text/css">/** Required in order to fix style inclusion problems in IE with YUI **/</script><link rel="stylesheet" type="text/css" href="https://moodle.lut.fi/theme/styles.php/maker/1704172985_1704173113/all" />
<script>
//<![CDATA[
var M = {}; M.yui = {};
M.pageloadstarttime = new Date();
M.cfg = {"wwwroot":"https:\/\/moodle.lut.fi","homeurl":{},"sesskey":"ylQxOyXdIx","sessiontimeout":"14400","sessiontimeoutwarning":1200,"themerev":"1704172985","slasharguments":1,"theme":"maker","iconsystemmodule":"core\/icon_system_fontawesome","jsrev":"1704172985","admin":"admin","svgicons":true,"usertimezone":"Europe\/Helsinki","courseId":1,"courseContextId":2,"contextid":1,"contextInstanceId":0,"langrev":1704768909,"templaterev":"1704172985"};var yui1ConfigFn = function(me) {if(/-skin|reset|fonts|grids|base/.test(me.name)){me.type='css';me.path=me.path.replace(/\.js/,'.css');me.path=me.path.replace(/\/yui2-skin/,'/assets/skins/sam/yui2-skin')}};
var yui2ConfigFn = function(me) {var parts=me.name.replace(/^moodle-/,'').split('-'),component=parts.shift(),module=parts[0],min='-min';if(/-(skin|core)$/.test(me.name)){parts.pop();me.type='css';min=''}
if(module){var filename=parts.join('-');me.path=component+'/'+module+'/'+filename+min+'.'+me.type}else{me.path=component+'/'+component+'.'+me.type}};
YUI_config = {"debug":false,"base":"https:\/\/moodle.lut.fi\/lib\/yuilib\/3.17.2\/","comboBase":"https:\/\/moodle.lut.fi\/theme\/yui_combo.php?","combine":true,"filter":null,"insertBefore":"firstthemesheet","groups":{"yui2":{"base":"https:\/\/moodle.lut.fi\/lib\/yuilib\/2in3\/2.9.0\/build\/","comboBase":"https:\/\/moodle.lut.fi\/theme\/yui_combo.php?","combine":true,"ext":false,"root":"2in3\/2.9.0\/build\/","patterns":{"yui2-":{"group":"yui2","configFn":yui1ConfigFn}}},"moodle":{"name":"moodle","base":"https:\/\/moodle.lut.fi\/theme\/yui_combo.php?m\/1704172985\/","combine":true,"comboBase":"https:\/\/moodle.lut.fi\/theme\/yui_combo.php?","ext":false,"root":"m\/1704172985\/","patterns":{"moodle-":{"group":"moodle","configFn":yui2ConfigFn}},"filter":null,"modules":{"moodle-core-actionmenu":{"requires":["base","event","node-event-simulate"]},"moodle-core-blocks":{"requires":["base","node","io","dom","dd","dd-scroll","moodle-core-dragdrop","moodle-core-notification"]},"moodle-core-chooserdialogue":{"requires":["base","panel","moodle-core-notification"]},"moodle-core-dragdrop":{"requires":["base","node","io","dom","dd","event-key","event-focus","moodle-core-notification"]},"moodle-core-event":{"requires":["event-custom"]},"moodle-core-formchangechecker":{"requires":["base","event-focus","moodle-core-event"]},"moodle-core-handlebars":{"condition":{"trigger":"handlebars","when":"after"}},"moodle-core-languninstallconfirm":{"requires":["base","node","moodle-core-notification-confirm","moodle-core-notification-alert"]},"moodle-core-lockscroll":{"requires":["plugin","base-build"]},"moodle-core-maintenancemodetimer":{"requires":["base","node"]},"moodle-core-notification":{"requires":["moodle-core-notification-dialogue","moodle-core-notification-alert","moodle-core-notification-confirm","moodle-core-notification-exception","moodle-core-notification-ajaxexception"]},"moodle-core-notification-dialogue":{"requires":["base","node","panel","escape","event-key","dd-plugin","moodle-core-widget-focusafterclose","moodle-core-lockscroll"]},"moodle-core-notification-alert":{"requires":["moodle-core-notification-dialogue"]},"moodle-core-notification-confirm":{"requires":["moodle-core-notification-dialogue"]},"moodle-core-notification-exception":{"requires":["moodle-core-notification-dialogue"]},"moodle-core-notification-ajaxexception":{"requires":["moodle-core-notification-dialogue"]},"moodle-core-popuphelp":{"requires":["moodle-core-tooltip"]},"moodle-core-tooltip":{"requires":["base","node","io-base","moodle-core-notification-dialogue","json-parse","widget-position","widget-position-align","event-outside","cache-base"]},"moodle-core_availability-form":{"requires":["base","node","event","event-delegate","panel","moodle-core-notification-dialogue","json"]},"moodle-backup-backupselectall":{"requires":["node","event","node-event-simulate","anim"]},"moodle-backup-confirmcancel":{"requires":["node","node-event-simulate","moodle-core-notification-confirm"]},"moodle-course-categoryexpander":{"requires":["node","event-key"]},"moodle-course-dragdrop":{"requires":["base","node","io","dom","dd","dd-scroll","moodle-core-dragdrop","moodle-core-notification","moodle-course-coursebase","moodle-course-util"]},"moodle-course-management":{"requires":["base","node","io-base","moodle-core-notification-exception","json-parse","dd-constrain","dd-proxy","dd-drop","dd-delegate","node-event-delegate"]},"moodle-course-util":{"requires":["node"],"use":["moodle-course-util-base"],"submodules":{"moodle-course-util-base":{},"moodle-course-util-section":{"requires":["node","moodle-course-util-base"]},"moodle-course-util-cm":{"requires":["node","moodle-course-util-base"]}}},"moodle-form-dateselector":{"requires":["base","node","overlay","calendar"]},"moodle-form-passwordunmask":{"requires":[]},"moodle-form-shortforms":{"requires":["node","base","selector-css3","moodle-core-event"]},"moodle-question-chooser":{"requires":["moodle-core-chooserdialogue"]},"moodle-question-preview":{"requires":["base","dom","event-delegate","event-key","core_question_engine"]},"moodle-question-searchform":{"requires":["base","node"]},"moodle-availability_completion-form":{"requires":["base","node","event","moodle-core_availability-form"]},"moodle-availability_date-form":{"requires":["base","node","event","io","moodle-core_availability-form"]},"moodle-availability_grade-form":{"requires":["base","node","event","moodle-core_availability-form"]},"moodle-availability_group-form":{"requires":["base","node","event","moodle-core_availability-form"]},"moodle-availability_grouping-form":{"requires":["base","node","event","moodle-core_availability-form"]},"moodle-availability_profile-form":{"requires":["base","node","event","moodle-core_availability-form"]},"moodle-mod_assign-history":{"requires":["node","transition"]},"moodle-mod_attendance-groupfilter":{"requires":["base","node"]},"moodle-mod_customcert-rearrange":{"requires":["dd-delegate","dd-drag"]},"moodle-mod_hsuforum-article":{"requires":["base","node","event","router","core_rating","querystring","moodle-mod_hsuforum-io","moodle-mod_hsuforum-livelog"]},"moodle-mod_hsuforum-io":{"requires":["base","io-base","io-form","io-upload-iframe","json-parse"]},"moodle-mod_hsuforum-livelog":{"requires":["widget"]},"moodle-mod_quiz-autosave":{"requires":["base","node","event","event-valuechange","node-event-delegate","io-form"]},"moodle-mod_quiz-dragdrop":{"requires":["base","node","io","dom","dd","dd-scroll","moodle-core-dragdrop","moodle-core-notification","moodle-mod_quiz-quizbase","moodle-mod_quiz-util-base","moodle-mod_quiz-util-page","moodle-mod_quiz-util-slot","moodle-course-util"]},"moodle-mod_quiz-modform":{"requires":["base","node","event"]},"moodle-mod_quiz-questionchooser":{"requires":["moodle-core-chooserdialogue","moodle-mod_quiz-util","querystring-parse"]},"moodle-mod_quiz-quizbase":{"requires":["base","node"]},"moodle-mod_quiz-toolboxes":{"requires":["base","node","event","event-key","io","moodle-mod_quiz-quizbase","moodle-mod_quiz-util-slot","moodle-core-notification-ajaxexception"]},"moodle-mod_quiz-util":{"requires":["node","moodle-core-actionmenu"],"use":["moodle-mod_quiz-util-base"],"submodules":{"moodle-mod_quiz-util-base":{},"moodle-mod_quiz-util-slot":{"requires":["node","moodle-mod_quiz-util-base"]},"moodle-mod_quiz-util-page":{"requires":["node","moodle-mod_quiz-util-base"]}}},"moodle-mod_scheduler-delselected":{"requires":["base","node","event"]},"moodle-mod_scheduler-saveseen":{"requires":["base","node","event"]},"moodle-mod_scheduler-studentlist":{"requires":["base","node","event","io"]},"moodle-message_airnotifier-toolboxes":{"requires":["base","node","io"]},"moodle-block_xp-filters":{"requires":["base","node","moodle-core-dragdrop","moodle-core-notification-confirm","moodle-block_xp-rulepicker"]},"moodle-block_xp-notification":{"requires":["base","node","handlebars","button-plugin","moodle-core-notification-dialogue"]},"moodle-block_xp-rulepicker":{"requires":["base","node","handlebars","moodle-core-notification-dialogue"]},"moodle-filter_glossary-autolinker":{"requires":["base","node","io-base","json-parse","event-delegate","overlay","moodle-core-event","moodle-core-notification-alert","moodle-core-notification-exception","moodle-core-notification-ajaxexception"]},"moodle-filter_mathjaxloader-loader":{"requires":["moodle-core-event"]},"moodle-editor_atto-editor":{"requires":["node","transition","io","overlay","escape","event","event-simulate","event-custom","node-event-html5","node-event-simulate","yui-throttle","moodle-core-notification-dialogue","moodle-core-notification-confirm","moodle-editor_atto-rangy","handlebars","timers","querystring-stringify"]},"moodle-editor_atto-plugin":{"requires":["node","base","escape","event","event-outside","handlebars","event-custom","timers","moodle-editor_atto-menu"]},"moodle-editor_atto-menu":{"requires":["moodle-core-notification-dialogue","node","event","event-custom"]},"moodle-editor_atto-rangy":{"requires":[]},"moodle-report_eventlist-eventfilter":{"requires":["base","event","node","node-event-delegate","datatable","autocomplete","autocomplete-filters"]},"moodle-report_loglive-fetchlogs":{"requires":["base","event","node","io","node-event-delegate"]},"moodle-gradereport_history-userselector":{"requires":["escape","event-delegate","event-key","handlebars","io-base","json-parse","moodle-core-notification-dialogue"]},"moodle-qbank_editquestion-chooser":{"requires":["moodle-core-chooserdialogue"]},"moodle-tool_capability-search":{"requires":["base","node"]},"moodle-tool_lp-dragdrop-reorder":{"requires":["moodle-core-dragdrop"]},"moodle-tool_monitor-dropdown":{"requires":["base","event","node"]},"moodle-assignfeedback_editpdf-editor":{"requires":["base","event","node","io","graphics","json","event-move","event-resize","transition","querystring-stringify-simple","moodle-core-notification-dialog","moodle-core-notification-alert","moodle-core-notification-warning","moodle-core-notification-exception","moodle-core-notification-ajaxexception"]},"moodle-atto_accessibilitychecker-button":{"requires":["color-base","moodle-editor_atto-plugin"]},"moodle-atto_accessibilityhelper-button":{"requires":["moodle-editor_atto-plugin"]},"moodle-atto_align-button":{"requires":["moodle-editor_atto-plugin"]},"moodle-atto_bold-button":{"requires":["moodle-editor_atto-plugin"]},"moodle-atto_charmap-button":{"requires":["moodle-editor_atto-plugin"]},"moodle-atto_clear-button":{"requires":["moodle-editor_atto-plugin"]},"moodle-atto_collapse-button":{"requires":["moodle-editor_atto-plugin"]},"moodle-atto_emojipicker-button":{"requires":["moodle-editor_atto-plugin"]},"moodle-atto_emoticon-button":{"requires":["moodle-editor_atto-plugin"]},"moodle-atto_equation-button":{"requires":["moodle-editor_atto-plugin","moodle-core-event","io","event-valuechange","tabview","array-extras"]},"moodle-atto_h5p-button":{"requires":["moodle-editor_atto-plugin"]},"moodle-atto_html-beautify":{},"moodle-atto_html-button":{"requires":["promise","moodle-editor_atto-plugin","moodle-atto_html-beautify","moodle-atto_html-codemirror","event-valuechange"]},"moodle-atto_html-codemirror":{"requires":["moodle-atto_html-codemirror-skin"]},"moodle-atto_image-button":{"requires":["moodle-editor_atto-plugin"]},"moodle-atto_indent-button":{"requires":["moodle-editor_atto-plugin"]},"moodle-atto_italic-button":{"requires":["moodle-editor_atto-plugin"]},"moodle-atto_link-button":{"requires":["moodle-editor_atto-plugin"]},"moodle-atto_managefiles-button":{"requires":["moodle-editor_atto-plugin"]},"moodle-atto_managefiles-usedfiles":{"requires":["node","escape"]},"moodle-atto_media-button":{"requires":["moodle-editor_atto-plugin","moodle-form-shortforms"]},"moodle-atto_noautolink-button":{"requires":["moodle-editor_atto-plugin"]},"moodle-atto_orderedlist-button":{"requires":["moodle-editor_atto-plugin"]},"moodle-atto_recordrtc-button":{"requires":["moodle-editor_atto-plugin","moodle-atto_recordrtc-recording"]},"moodle-atto_recordrtc-recording":{"requires":["moodle-atto_recordrtc-button"]},"moodle-atto_rtl-button":{"requires":["moodle-editor_atto-plugin"]},"moodle-atto_strike-button":{"requires":["moodle-editor_atto-plugin"]},"moodle-atto_subscript-button":{"requires":["moodle-editor_atto-plugin"]},"moodle-atto_superscript-button":{"requires":["moodle-editor_atto-plugin"]},"moodle-atto_table-button":{"requires":["moodle-editor_atto-plugin","moodle-editor_atto-menu","event","event-valuechange"]},"moodle-atto_title-button":{"requires":["moodle-editor_atto-plugin"]},"moodle-atto_underline-button":{"requires":["moodle-editor_atto-plugin"]},"moodle-atto_undo-button":{"requires":["moodle-editor_atto-plugin"]},"moodle-atto_unorderedlist-button":{"requires":["moodle-editor_atto-plugin"]}}},"gallery":{"name":"gallery","base":"https:\/\/moodle.lut.fi\/lib\/yuilib\/gallery\/","combine":true,"comboBase":"https:\/\/moodle.lut.fi\/theme\/yui_combo.php?","ext":false,"root":"gallery\/1704172985\/","patterns":{"gallery-":{"group":"gallery"}}}},"modules":{"core_filepicker":{"name":"core_filepicker","fullpath":"https:\/\/moodle.lut.fi\/lib\/javascript.php\/1704172985\/repository\/filepicker.js","requires":["base","node","node-event-simulate","json","async-queue","io-base","io-upload-iframe","io-form","yui2-treeview","panel","cookie","datatable","datatable-sort","resize-plugin","dd-plugin","escape","moodle-core_filepicker","moodle-core-notification-dialogue"]},"core_comment":{"name":"core_comment","fullpath":"https:\/\/moodle.lut.fi\/lib\/javascript.php\/1704172985\/comment\/comment.js","requires":["base","io-base","node","json","yui2-animation","overlay","escape"]},"mathjax":{"name":"mathjax","fullpath":"https:\/\/cdn.jsdelivr.net\/npm\/mathjax@2.7.9\/MathJax.js?delayStartupUntil=configured"}}};
M.yui.loader = {modules: {}};

//]]>
</script>

<meta name="moodle-validation" content="15f7a34707af6ec2e668acd58aba9666">
<meta name="robots" content="noindex" />
    
    <meta name="viewport" content="width=device-width, initial-scale=1.0">
    
    
</head>

<body  id="page-login-index" class="format-site  path-login dir-ltr lang-en yui-skin-sam yui3-skin-sam moodle-lut-fi pagelayout-login course-1 context-1 notloggedin " >

<div class="toast-wrapper mx-auto py-0 fixed-top" role="status" aria-live="polite"></div>

<div id="page-wrapper" class="page-wrapper has-bg-image has-bg-mask has-logo">

    <div>
    <a class="sr-only sr-only-focusable" href="#maincontent">Skip to main content</a>
</div><script src="https://moodle.lut.fi/lib/javascript.php/1704172985/lib/polyfills/polyfill.js"></script>
<script src="https://moodle.lut.fi/theme/yui_combo.php?rollup/3.17.2/yui-moodlesimple-min.js"></script><script src="https://moodle.lut.fi/theme/jquery.php/core/jquery-3.6.1.min.js"></script>
<script src="https://moodle.lut.fi/lib/javascript.php/1704172985/lib/javascript-static.js"></script>
<script>
//<![CDATA[
document.body.className += ' jsenabled';
//]]>
</script>


<script src="https://moodle.lut.fi/mod/hvp/library/js/h5p-resizer.js" charset="UTF-8"></script>

    <div id="page" class="container-fluid">
        <div id="page-content">
            <div id="region-main-box">
                <section id="region-main">

                    <span class="notifications" id="user-notifications"></span>
                    <div role="main"><span id="maincontent"></span><div class="auth-blocks-wrapper justify-content-center">
	
	
	
	

	<div class="login-block">
	    <div class="block-inner">
	        <div class="block-title">
	                <h2 class="login-sitename"><a href="https://moodle.lut.fi">LUT-korkeakoulut Moodle</a></h2>            
	        </div>
	
	
	
	        <div class="row">
		        
	            <div class="form-col col-lg-6 col-12">
	                <form class="login-form" action="https://moodle.lut.fi/login/index.php" method="post" id="login">
	                    
	                    <input type="hidden" name="logintoken" value="q6xTMpOq7yLcGaDDEQaSdZuWhZH6FKPm">
	                    <div class="form-group username">
		                    <i class="fa fa-user" aria-hidden="true"></i>
		                    <label for="username" class="sr-only">
		                            Username
		                    </label>
		                    
		                    <input type="text" name="username" id="username"  class="form-control login-username" value="" placeholder="Username" autocomplete="username">
	                    </div><!--//form-group-->    
	                    <div class="form-group password">    
		                    <i class="fa fa-lock" aria-hidden="true"></i>
		                    <label for="password" class="sr-only">Password</label>
		                    
		                    <input type="password" name="password" id="password" value="" class="form-control form-control-lg" placeholder="Password" autocomplete="current-password">
	                    </div><!--//form-group-->
	                    <div class="forgetpass">
		                    <a href="https://moodle.lut.fi/login/forgot_password.php">Forgotten your username or password?</a>
		                </div>
	                    
	
	                    <button type="submit" class="btn btn-primary btn-block mt-1" id="loginbtn">Log in</button>
	                    
	                </form>

	                
	            </div><!--//form-col-->
	            
	            
	
	            <div class="info-col col-lg-6 col-12">
		            
		                    <div class="oauth-wrapper">
				                <h6 class="oauth-title"><h3>Login:</h3>
<p>LAB University of Applied Sciences students and staff: </p>
<p><button class="button_login buttonlab" onclick="window.location.href='https://idp.lab.fi/idp/profile/SAML2/Unsolicited/SSO?providerId=https://moodle.lut.fi/shibboleth&target=https://moodle.lut.fi/auth/shibboleth/index.php';">LAB University of Applied Sciences login</button></p>
<p>LUT University students and staff: </p>
<p><button class="button_login buttonlut" onclick="window.location.href='https://idp.lut.fi/idp/profile/SAML2/Unsolicited/SSO?providerId=https://moodle.lut.fi/shibboleth&target=https://moodle.lut.fi/auth/shibboleth/index.php';">LUT University login</button></p>

<p>Other university students and staff:  Use the "Shibboleth HAKA login" > Choose your own university > Log in using your account on:</p></h6>
				                <div class="potentialidplist">
				                        <div class="potentialidp">
				                            <a href="https://moodle.lut.fi/auth/shibboleth/index.php" title="Shibboleth HAKA Login" class="btn btn-social btn-Shibboleth HAKA Login btn-block ">
				                                    <img class="social-icon-image" src="https://moodle.lut.fi/pluginfile.php/1/auth_shibboleth/logo/haka-login.gif" alt="" width="24" height="24"/>
				                                <span class="btn-text">Shibboleth HAKA Login</span>
				                            </a>
				                        </div>
				                </div>
		                    </div>
		            
		            <div class="cookies">
				        <h4 class="login-other-instruction">Other users, login with your LUT Moodle account:</h4>
<p>Cookies must be enabled in your browser.</p>
				        
				    </div>

		               
		
			       
		        
	            </div><!--//info-col-->
	            
	            
	        </div><!--//row-->
	    </div>
	</div>


	<div class="instructions-block">
	    <div class="block-inner">
		    <div class="action-container">
		        <div class="option-title">
		            Announcements:
		        </div>
		    </div><!--//action-container-->
	        
		    <div class="instructions">
	            <p>SÄÄNNÖLLINEN HUOLTOKATKO / REGULAR SERVICE BREAK:</p><div><div>Joka kuukauden ensimmäinen arkitiistai / On the first Tuesday of each month (on workdays only) - 7.00-8.00</div></div>
		    </div><!--//instructions-->
	        
	        
	    </div>
	</div>
	
	
	
</div><!--//auth-blocks-wrapper--></div>
                    
            
                </section>
            </div>
        </div>
    </div>
</div>

<div class="tool_dataprivacy"><a href="https://moodle.lut.fi/admin/tool/dataprivacy/summary.php">Data retention summary</a></div><a class="mobilelink" href="https://download.moodle.org/mobile?version=2022112807&amp;lang=en&amp;iosappid=633359593&amp;androidappid=com.moodle.moodlemobile">Get the mobile app</a><div class="policiesfooter"><a href="https://moodle.lut.fi/admin/tool/policy/viewall.php?returnurl=https%3A%2F%2Fmoodle.lut.fi%2Flogin%2Findex.php">Policies</a></div>

<script>
//<![CDATA[
var require = {
    baseUrl : 'https://moodle.lut.fi/lib/requirejs.php/1704172985/',
    // We only support AMD modules with an explicit define() statement.
    enforceDefine: true,
    skipDataMain: true,
    waitSeconds : 0,

    paths: {
        jquery: 'https://moodle.lut.fi/lib/javascript.php/1704172985/lib/jquery/jquery-3.6.1.min',
        jqueryui: 'https://moodle.lut.fi/lib/javascript.php/1704172985/lib/jquery/ui-1.13.2/jquery-ui.min',
        jqueryprivate: 'https://moodle.lut.fi/lib/javascript.php/1704172985/lib/requirejs/jquery-private'
    },

    // Custom jquery config map.
    map: {
      // '*' means all modules will get 'jqueryprivate'
      // for their 'jquery' dependency.
      '*': { jquery: 'jqueryprivate' },
      // Stub module for 'process'. This is a workaround for a bug in MathJax (see MDL-60458).
      '*': { process: 'core/first' },

      // 'jquery-private' wants the real jQuery module
      // though. If this line was not here, there would
      // be an unresolvable cyclic dependency.
      jqueryprivate: { jquery: 'jquery' }
    }
};

//]]>
</script>
<script src="https://moodle.lut.fi/lib/javascript.php/1704172985/lib/requirejs/require.min.js"></script>
<script>
//<![CDATA[
M.util.js_pending("core/first");
require(['core/first'], function() {
require(['core/prefetch'])
;
require(["media_videojs/loader"], function(loader) {
    loader.setUp('en');
});;


require(['jquery', 'tool_policy/jquery-eu-cookie-law-popup', 'tool_policy/policyactions'], function($, Popup, ActionsMod) {
        // Initialise the guest popup.
        $(document).ready(function() {
            // Only show message if there is some policy related to guests.
                // Get localised messages.
                var textmessage = "If you continue browsing this website, you agree to our policies:" +
                   "<ul>" +
                   "<li>" +
                   "<a href=\"https://moodle.lut.fi/admin/tool/policy/view.php?versionid=2&amp;returnurl=https%3A%2F%2Fmoodle.lut.fi%2Flogin%2Findex.php\" " +
                   "   data-action=\"view-guest\" data-versionid=\"2\" data-behalfid=\"1\" >" +
                   "Käyttöehdot - Terms of use" +
                   "</a>" +
                   "</li>" +
                   "" +
                   "<li>" +
                   "<a href=\"https://moodle.lut.fi/admin/tool/policy/view.php?versionid=1&amp;returnurl=https%3A%2F%2Fmoodle.lut.fi%2Flogin%2Findex.php\" " +
                   "   data-action=\"view-guest\" data-versionid=\"1\" data-behalfid=\"1\" >" +
                   "Tietosuoja - Data Protection" +
                   "</a>" +
                   "</li>" +
                   "" +
                   "</ul>";
                var continuemessage = "Continue";

                // Initialize popup.
                $(document.body).addClass('eupopup');
                if ($(".eupopup").length > 0) {
                    $(document).euCookieLawPopup().init({
                        popupPosition: 'bottom',
                        popupTitle: '',
                        popupText: textmessage,
                        buttonContinueTitle: continuemessage,
                        buttonLearnmoreTitle: '',
                        compactStyle: true,
                    });
                }

            // Initialise the JS for the modal window which displays the policy versions.
            ActionsMod.init('[data-action="view-guest"]');
        });
});

;

require(['theme_boost/loader']);
;

;
M.util.js_pending('core/notification'); require(['core/notification'], function(amd) {amd.init(1, []); M.util.js_complete('core/notification');});;
M.util.js_pending('core/log'); require(['core/log'], function(amd) {amd.setConfig({"level":"warn"}); M.util.js_complete('core/log');});;
M.util.js_pending('core/page_global'); require(['core/page_global'], function(amd) {amd.init(); M.util.js_complete('core/page_global');});;
M.util.js_pending('core/utility'); require(['core/utility'], function(amd) {M.util.js_complete('core/utility');});
    M.util.js_complete("core/first");
});
//]]>
</script>
<script src="https://moodle.lut.fi/lib/javascript.php/1704172985/theme/maker/plugins/back-to-top.js"></script>
<script>
//<![CDATA[
M.str = {"moodle":{"lastmodified":"Last modified","name":"Name","error":"Error","info":"Information","yes":"Yes","no":"No","ok":"OK","cancel":"Cancel","confirm":"Confirm","areyousure":"Are you sure?","closebuttontitle":"Close","unknownerror":"Unknown error","file":"File","url":"URL","collapseall":"Collapse all","expandall":"Expand all"},"repository":{"type":"Type","size":"Size","invalidjson":"Invalid JSON string","nofilesattached":"No files attached","filepicker":"File picker","logout":"Logout","nofilesavailable":"No files available","norepositoriesavailable":"Sorry, none of your current repositories can return files in the required format.","fileexistsdialogheader":"File exists","fileexistsdialog_editor":"A file with that name has already been attached to the text you are editing.","fileexistsdialog_filemanager":"A file with that name has already been attached","renameto":"Rename to \"{$a}\"","referencesexist":"There are {$a} links to this file","select":"Select"},"admin":{"confirmdeletecomments":"You are about to delete comments, are you sure?","confirmation":"Confirmation"},"debug":{"debuginfo":"Debug info","line":"Line","stacktrace":"Stack trace"},"langconfig":{"labelsep":": "}};
//]]>
</script>
<script>
//<![CDATA[
(function() {Y.use("moodle-filter_mathjaxloader-loader",function() {M.filter_mathjaxloader.configure({"mathjaxconfig":"MathJax.Hub.Config({\r\n    config: [\"Accessible.js\", \"Safe.js\"],\r\n    errorSettings: { message: [\"!\"] },\r\n    skipStartupTypeset: true,\r\n    messageStyle: \"none\"\r\n});\r\n","lang":"en"});
});
Y.use("moodle-filter_glossary-autolinker",function() {M.filter_glossary.init_filter_autolinking({"courseid":0});
});
M.util.help_popups.setup(Y);
 M.util.js_pending('random659da17ce4e268'); Y.on('domready', function() { M.util.js_complete("init");  M.util.js_complete('random659da17ce4e268'); });
})();
//]]>
</script>



</body>
</html>