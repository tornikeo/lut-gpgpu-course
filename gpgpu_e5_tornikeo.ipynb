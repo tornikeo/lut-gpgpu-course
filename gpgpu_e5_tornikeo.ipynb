{
  "cells": [
    {
      "cell_type": "markdown",
      "metadata": {},
      "source": [
        "## Student: Tornike Onoprishvili   \n",
        "## Exercise 4. `PyTorch Fundamentals`\n",
        "\n",
        "All tasks are in this single notebook."
      ]
    },
    {
      "cell_type": "code",
      "execution_count": 1,
      "metadata": {
        "id": "UkvP7vhP3Pt7"
      },
      "outputs": [],
      "source": [
        "from math import ceil as roof # Very important!\n",
        "import numpy as np\n",
        "import torch\n",
        "\n",
        "assert torch.cuda.is_available()"
      ]
    },
    {
      "cell_type": "markdown",
      "metadata": {
        "id": "X3Sh1S6vRCQp"
      },
      "source": [
        "## Task 1:\n",
        "\n",
        "Tensors are a generalisation of multidimensional arrays and the data structure in PyTorch. Experiment with PyTorch tensors as follows:\n",
        "\n",
        "-    Create a 2D tensor of size 5x3 where the elements are pulled from the normal probability distribution with zero mean and unit variance.\n",
        "-    Present the memory contents and the metadata (size, offset, stride) of the tensor.\n",
        "-    Transpose the tensor without copying in memory.\n",
        "-    Present the memory contents and the metadata (size, offset, stride) of the tensor.\n",
        "-    Test whether the tensor and its transpose are contiguous in memory.\n",
        "\n",
        "Hints: randn, size, offset, stride, transpose, is_contiguous."
      ]
    },
    {
      "cell_type": "code",
      "execution_count": 2,
      "metadata": {},
      "outputs": [
        {
          "name": "stdout",
          "output_type": "stream",
          "text": [
            "Size torch.Size([5, 3])\n",
            "Offset 0\n",
            "Offset (3, 1)\n",
            "tensor([[-0.7213, -2.5303,  0.7433],\n",
            "        [ 1.1376, -0.2916, -0.9032],\n",
            "        [-0.2675,  0.7849,  0.5421],\n",
            "        [ 0.9652,  0.6450,  0.5692],\n",
            "        [ 0.7648, -0.2300, -1.1352]]) \n",
            " tensor([[-0.7213,  1.1376, -0.2675,  0.9652,  0.7648],\n",
            "        [-2.5303, -0.2916,  0.7849,  0.6450, -0.2300],\n",
            "        [ 0.7433, -0.9032,  0.5421,  0.5692, -1.1352]])\n",
            "Size torch.Size([3, 5])\n",
            "Offset 0\n",
            "Offset (1, 3)\n",
            "Is tensor contiguous True\n",
            "Is tensor.T contiguous False\n"
          ]
        }
      ],
      "source": [
        "ten = torch.randn(5,3)\n",
        "\n",
        "print(\"Size\", ten.size())\n",
        "print(\"Offset\", ten.storage_offset())\n",
        "print(\"Offset\", ten.stride())\n",
        "\n",
        "ten_t = ten.transpose(0,1)\n",
        "\n",
        "print(ten, '\\n', ten_t)\n",
        "print(\"Size\", ten_t.size())\n",
        "print(\"Offset\", ten_t.storage_offset())\n",
        "print(\"Offset\", ten_t.stride())\n",
        "\n",
        "print(\"Is tensor contiguous\", ten.is_contiguous(),)\n",
        "print(\"Is tensor.T contiguous\", ten_t.is_contiguous(),)"
      ]
    },
    {
      "cell_type": "markdown",
      "metadata": {},
      "source": [
        "## Task 2\n",
        "\n",
        "PyTorch tensors can be created by constructors, but also by converting them from other types of multidimensional arrays.\n",
        "\n",
        "Experiment with PyTorch tensors as follows:\n",
        "\n",
        "-    Create a tensor by loading the given data.\n",
        "-    Normalise the data by standardisation (zero mean, unit variance).\n",
        "-    Serialise (save) the tensor to a file, also in the HDF5 format.\n",
        "\n",
        "Hints: NumPy, h5py."
      ]
    },
    {
      "cell_type": "code",
      "execution_count": 3,
      "metadata": {},
      "outputs": [
        {
          "name": "stdout",
          "output_type": "stream",
          "text": [
            "Normed, mean [-3.552713678800501e-17, -4.440892098500626e-18]\n",
            "Normed std [1.0000000000000004, 0.9999999999999998]\n"
          ]
        },
        {
          "data": {
            "text/plain": [
              "(100, 2)"
            ]
          },
          "execution_count": 3,
          "metadata": {},
          "output_type": "execute_result"
        }
      ],
      "source": [
        "import h5py\n",
        "import numpy as np\n",
        "import pandas as pd\n",
        "\n",
        "arr = torch.tensor(pd.read_csv('t003a.csv', header=None).to_numpy())\n",
        "# arr =  / (arr.std(1))\n",
        "arr -= arr.mean(0)\n",
        "arr /= arr.std(0)\n",
        "\n",
        "print(\"Normed, mean\", arr.mean(0).tolist())\n",
        "print(\"Normed std\", arr.std(0).tolist())\n",
        "\n",
        "torch.save(arr, 'tensor.pt')\n",
        "\n",
        "! rm -f tensor.h5\n",
        "\n",
        "with h5py.File('tensor.h5', 'w') as h5f:\n",
        "     h5f.create_dataset('arr', data = arr)\n",
        "\n",
        "\n",
        "f = h5py.File('tensor.h5', 'r')\n",
        "f['arr'].shape"
      ]
    },
    {
      "cell_type": "markdown",
      "metadata": {},
      "source": [
        "## Task 3\n",
        "In linear regression, a linear model is fitted to data. One of the simplest forms of the model is\n",
        "\n",
        "$$y=wx+b$$\n",
        "\n",
        "where x is the input variable, y is the predicted variable, and the model parameters are the weight x and bias b.\n",
        "\n",
        "Implement an iterative learning algorithm for linear regression with PyTorch. Automatic differentiation (autograd) may be used, and the loss function and training process parameters can be selected freely. Estimate the model parameters using the given data."
      ]
    },
    {
      "cell_type": "code",
      "execution_count": 22,
      "metadata": {},
      "outputs": [
        {
          "data": {
            "text/plain": [
              "<matplotlib.legend.Legend at 0x7fac7ab5c6a0>"
            ]
          },
          "execution_count": 22,
          "metadata": {},
          "output_type": "execute_result"
        },
        {
          "data": {
            "image/png": "[encoded data removed]",
            "text/plain": [
              "<Figure size 640x480 with 1 Axes>"
            ]
          },
          "metadata": {},
          "output_type": "display_data"
        }
      ],
      "source": [
        "data = torch.tensor(pd.read_csv('t002c.csv', header=None).to_numpy())\n",
        "\n",
        "def loss(input, target):\n",
        "    return ((input - target) ** 2).sum()\n",
        "\n",
        "w = torch.randn(1, requires_grad=True)\n",
        "b = torch.randn(1, requires_grad=True)\n",
        "\n",
        "def model(x):\n",
        "    return x * w + b\n",
        "\n",
        "loss_hist = []\n",
        "rmse_hist = []\n",
        "epochs = 50\n",
        "for i in range(epochs):\n",
        "    mean_l = 0\n",
        "    for x, y in data:\n",
        "        y_pred = model(x)\n",
        "        l = loss(y_pred, y)\n",
        "        l.backward()\n",
        "        mean_l += l.item() / len(data)\n",
        "        with torch.no_grad():\n",
        "            w -= .01 * w.grad\n",
        "            b -= .01 * b.grad\n",
        "            w.grad = None\n",
        "            b.grad = None\n",
        "    with torch.no_grad():\n",
        "        rmse = []\n",
        "        for x, y in data:\n",
        "            err = (y - model(x)) ** 2\n",
        "            rmse.append(err)\n",
        "        rmse = torch.tensor(rmse).mean().sqrt()\n",
        "    rmse_hist.append(rmse)\n",
        "    loss_hist.append(mean_l)\n",
        "    \n",
        "import matplotlib.pyplot as plt\n",
        "plt.plot(loss_hist, label='Loss')\n",
        "plt.plot(rmse_hist, label='RMSE')\n",
        "plt.title(\"Loss over step\")\n",
        "plt.legend()"
      ]
    }
  ],
  "metadata": {
    "accelerator": "GPU",
    "colab": {
      "authorship_tag": "ABX9TyM6SXsinTDwUr9t1DbwwF7p",
      "gpuType": "T4",
      "include_colab_link": true,
      "provenance": []
    },
    "kernelspec": {
      "display_name": "Python 3",
      "name": "python3"
    },
    "language_info": {
      "codemirror_mode": {
        "name": "ipython",
        "version": 3
      },
      "file_extension": ".py",
      "mimetype": "text/x-python",
      "name": "python",
      "nbconvert_exporter": "python",
      "pygments_lexer": "ipython3",
      "version": "3.10.11"
    }
  },
  "nbformat": 4,
  "nbformat_minor": 0
}
