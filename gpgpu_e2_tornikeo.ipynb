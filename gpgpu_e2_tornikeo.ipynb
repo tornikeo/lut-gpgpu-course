{
  "cells": [
    {
      "cell_type": "markdown",
      "metadata": {
        "colab_type": "text",
        "id": "view-in-github"
      },
      "source": [
        "<a href=\"https://colab.research.google.com/github/tornikeo/lut-gpgpu-course/blob/main/gpgpu_e2_tornikeo.ipynb\" target=\"_parent\"><img src=\"https://colab.research.google.com/assets/colab-badge.svg\" alt=\"Open In Colab\"/></a>"
      ]
    },
    {
      "cell_type": "code",
      "execution_count": 1,
      "metadata": {
        "id": "UkvP7vhP3Pt7"
      },
      "outputs": [],
      "source": [
        "from math import ceil as roof\n",
        "import numba\n",
        "from numba import cuda\n",
        "import numpy as np\n",
        "from numba import types\n",
        "assert cuda.is_available()"
      ]
    },
    {
      "cell_type": "markdown",
      "metadata": {
        "id": "X3Sh1S6vRCQp"
      },
      "source": [
        "## Task 1:\n",
        "\n",
        "a) Implement a kernel which takes two vectors A and B and adds them together to form a vector C."
      ]
    },
    {
      "cell_type": "code",
      "execution_count": 3,
      "metadata": {
        "id": "V7KN0s075533"
      },
      "outputs": [
        {
          "name": "stdout",
          "output_type": "stream",
          "text": [
            "[0.00000e+00 1.00000e+00 2.00000e+00 ... 9.99997e+05 9.99998e+05\n",
            " 9.99999e+05]\n",
            "[1. 1. 1. ... 1. 1. 1.]\n",
            "[1. 1. 1. ... 1. 1. 1.]\n"
          ]
        },
        {
          "data": {
            "text/plain": [
              "True"
            ]
          },
          "execution_count": 3,
          "metadata": {},
          "output_type": "execute_result"
        }
      ],
      "source": [
        "np.random.seed(42)\n",
        "size = int(1e6)\n",
        "\n",
        "# inp = np.random.uniform(size=size)\n",
        "inp = np.arange(size).astype('float32')\n",
        "out = np.empty_like(inp)\n",
        "out[-1] = 0\n",
        "inp_cu = cuda.to_device(inp)\n",
        "out_cu = cuda.device_array_like(out)\n",
        "\n",
        "@cuda.jit\n",
        "def kernel_v1(inp, out):\n",
        "    gx = cuda.grid(1)\n",
        "    if gx < len(inp) - 1:\n",
        "        out[gx] = inp[gx + 1] - inp[gx]\n",
        "\n",
        "THREADS_PER_BLOCK = (1024,1,1)\n",
        "BLOCKS_PER_GRID = (roof(len(inp) / (THREADS_PER_BLOCK[0] - 1)), 1, 1)\n",
        "        \n",
        "@cuda.jit\n",
        "def kernel_v2(inp, out):\n",
        "    tx = cuda.threadIdx.x\n",
        "    bx = cuda.blockIdx.x\n",
        "    \n",
        "    gx = cuda.grid(1)\n",
        "    sh = cuda.shared.array(THREADS_PER_BLOCK[0], numba.types.float32)\n",
        "\n",
        "    if gx - bx < len(inp):\n",
        "        sh[tx] = inp[gx - bx]\n",
        "    \n",
        "    cuda.syncthreads()\n",
        "    \n",
        "    if gx - bx < len(inp) and tx + 1 < len(sh):\n",
        "        out[gx - bx] = sh[tx + 1] - sh[tx]\n",
        "\n",
        "\n",
        "kernel_v2[BLOCKS_PER_GRID, THREADS_PER_BLOCK](inp_cu, out_cu)\n",
        "\n",
        "out_cu.copy_to_host(out)\n",
        "\n",
        "y_true = np.diff(inp)\n",
        "y_pred = out[:-1]\n",
        "\n",
        "print(inp)\n",
        "print(y_true)\n",
        "print(y_pred)\n",
        "\n",
        "np.allclose(y_true, y_pred)"
      ]
    },
    {
      "cell_type": "markdown",
      "metadata": {
        "id": "lJTqZaJiRHq0"
      },
      "source": [
        "## Task 2:\n",
        "\n",
        "Implement the three reduction models presented in the lectures. Time their performance against different vector sizes. Execution times can vary between executions, so run them for example 100 times and take the average time.\n",
        "\n",
        "Use for example $2^{10}$, $2^{13}$, $2^{16}$, $2^{20}$, and $2^{22}$ values and plot them into same graph.\n",
        "\n",
        "Add also CPU performance with numpy sum() - function."
      ]
    },
    {
      "cell_type": "markdown",
      "metadata": {},
      "source": [
        "Sequential reduction"
      ]
    },
    {
      "cell_type": "code",
      "execution_count": 4,
      "metadata": {
        "id": "FWakPHdf9stL"
      },
      "outputs": [
        {
          "name": "stdout",
          "output_type": "stream",
          "text": [
            "100000000.0\n",
            "100000000.0\n"
          ]
        }
      ],
      "source": [
        "# Sequential\n",
        "size = int(1e8)\n",
        "inp = np.ones(size,'float32')\n",
        "inp_cu = cuda.to_device(inp)\n",
        "\n",
        "@cuda.jit\n",
        "def kernel_sequential(inp: np.ndarray, \n",
        "                      stride: int):\n",
        "    gx = cuda.grid(1)\n",
        "    if (gx % (stride * 2)) == 0 and gx + stride < len(inp):\n",
        "        inp[gx] += inp[gx + stride]\n",
        "    \n",
        "\n",
        "THREADS_PER_BLOCK = (1024,1,1)\n",
        "BLOCKS_PER_GRID = (roof(len(inp) / THREADS_PER_BLOCK[0]), 1, 1)\n",
        "\n",
        "stride = 1\n",
        "\n",
        "while stride < len(inp):\n",
        "    kernel_sequential[BLOCKS_PER_GRID, THREADS_PER_BLOCK](inp_cu, stride)\n",
        "    stride *= 2\n",
        "\n",
        "out = inp_cu.copy_to_host()\n",
        "\n",
        "y_true = np.sum(inp)\n",
        "y_pred = out[0]\n",
        "\n",
        "# print(inp)\n",
        "print(y_true)\n",
        "print(y_pred)\n",
        "\n",
        "# np.allclose(y_true, y_pred)"
      ]
    },
    {
      "cell_type": "code",
      "execution_count": 7,
      "metadata": {},
      "outputs": [
        {
          "name": "stdout",
          "output_type": "stream",
          "text": [
            "2097089.5\n",
            "2097089.4\n"
          ]
        },
        {
          "data": {
            "text/plain": [
              "True"
            ]
          },
          "execution_count": 7,
          "metadata": {},
          "output_type": "execute_result"
        }
      ],
      "source": [
        "# Shared mem + sequential\n",
        "np.random.seed(42)\n",
        "size = int(2 ** 22)\n",
        "inp = np.random.uniform(size=size).astype('float32')\n",
        "inp_cu = cuda.to_device(inp)\n",
        "\n",
        "\n",
        "THREADS_PER_BLOCK = (1024,1,1)\n",
        "\n",
        "@cuda.jit\n",
        "def kernel_sequential_shared(\n",
        "        inp: np.ndarray,\n",
        "        size: int,\n",
        "    ):\n",
        "    gx = cuda.grid(1)\n",
        "    tx = cuda.threadIdx.x\n",
        "    sh = cuda.shared.array(THREADS_PER_BLOCK[0], types.float32)\n",
        "    \n",
        "    if gx < size:\n",
        "        sh[tx] = inp[gx]\n",
        "    else:\n",
        "        sh[tx] = 0\n",
        "    \n",
        "    cuda.syncthreads()\n",
        "    \n",
        "    stride = 1\n",
        "    while True:\n",
        "        if not (stride < cuda.blockDim.x):\n",
        "            break\n",
        "        \n",
        "        if tx % (stride * 2) == 0 and tx + stride < len(sh):\n",
        "            sh[tx] += sh[tx + stride]\n",
        "        cuda.syncthreads()  \n",
        "        \n",
        "        stride *= 2        \n",
        "    \n",
        "    if tx == 0:\n",
        "        inp[cuda.blockIdx.x] = sh[0]\n",
        "    \n",
        "BLOCKS_PER_GRID = (roof(len(inp) / THREADS_PER_BLOCK[0]), 1, 1)\n",
        "\n",
        "size_iter = len(inp)\n",
        "while size_iter > 1:\n",
        "    kernel_sequential_shared[BLOCKS_PER_GRID, THREADS_PER_BLOCK](inp_cu, size_iter)\n",
        "    size_iter = roof(size_iter / THREADS_PER_BLOCK[0])\n",
        "\n",
        "out = inp_cu.copy_to_host()\n",
        "y_true = np.sum(inp)\n",
        "y_pred = out[0]\n",
        "\n",
        "print(y_true)\n",
        "print(y_pred)\n",
        "\n",
        "np.allclose(y_true, y_pred)"
      ]
    },
    {
      "cell_type": "code",
      "execution_count": 5,
      "metadata": {},
      "outputs": [
        {
          "name": "stderr",
          "output_type": "stream",
          "text": [
            "100%|██████████| 16/16 [00:01<00:00, 15.40it/s] \n",
            "16it [00:11,  1.36it/s]\n",
            "16it [00:03,  4.49it/s]\n"
          ]
        },
        {
          "data": {
            "image/png": "[encoded data removed]",
            "text/plain": [
              "<Figure size 640x480 with 1 Axes>"
            ]
          },
          "metadata": {},
          "output_type": "display_data"
        }
      ],
      "source": [
        "import matplotlib.pyplot as plt\n",
        "from time import  perf_counter\n",
        "from tqdm import tqdm\n",
        "\n",
        "\n",
        "sizes = np.logspace(10, 26, num=16, base=2).astype('int32')\n",
        "inputs = []\n",
        "\n",
        "\n",
        "for size in tqdm(sizes):\n",
        "    size = int(size)\n",
        "    inp = np.random.uniform(size=size).astype('float32')\n",
        "    inputs.append(inp)\n",
        "mean_times = []\n",
        "\n",
        "\n",
        "for i, size in tqdm(enumerate(sizes)):\n",
        "    size = int(size)\n",
        "    times = []\n",
        "    inp = inputs[i]\n",
        "    for _ in range(100):\n",
        "        inp_cu = cuda.to_device(inp)\n",
        "        size_iter = len(inp)\n",
        "        BLOCKS_PER_GRID = (roof(len(inp) / THREADS_PER_BLOCK[0]), 1, 1)\n",
        "        while size_iter > 1:\n",
        "            duration = -perf_counter()\n",
        "            kernel_sequential_shared[BLOCKS_PER_GRID, THREADS_PER_BLOCK](inp_cu, size_iter)\n",
        "            duration = +perf_counter()\n",
        "            size_iter = roof(size_iter / THREADS_PER_BLOCK[0])\n",
        "        times.append(duration)\n",
        "    \n",
        "    mean_times.append(np.mean(times))\n",
        "    \n",
        "plt.loglog(sizes, mean_times, label='GPU sum')\n",
        "\n",
        "vals = [] # This is to make sure numpy *does* compute results\n",
        "mean_times = []\n",
        "for i, size in tqdm(enumerate(sizes)):\n",
        "    size = int(size)\n",
        "    times = []\n",
        "    inp = inputs[i]\n",
        "    for _ in range(100):\n",
        "        duration = -perf_counter()\n",
        "        vals.append(inp.sum())\n",
        "        duration = +perf_counter()\n",
        "        times.append(duration)\n",
        "    \n",
        "    mean_times.append(np.mean(times))\n",
        "    \n",
        "    \n",
        "plt.loglog(sizes, mean_times, label='np.sum')\n",
        "plt.xlabel(\"Array size\")\n",
        "plt.ylabel(\"wall-clock time (ms)\")\n",
        "plt.legend()\n",
        "plt.show()"
      ]
    },
    {
      "cell_type": "markdown",
      "metadata": {
        "id": "l6VHsYWLRXJy"
      },
      "source": [
        "## Task 3:\n",
        "\n",
        "Extend the kernel from task 2 to use shared memory."
      ]
    }
  ],
  "metadata": {
    "accelerator": "GPU",
    "colab": {
      "authorship_tag": "ABX9TyM6SXsinTDwUr9t1DbwwF7p",
      "gpuType": "T4",
      "include_colab_link": true,
      "provenance": []
    },
    "kernelspec": {
      "display_name": "Python 3",
      "name": "python3"
    },
    "language_info": {
      "codemirror_mode": {
        "name": "ipython",
        "version": 3
      },
      "file_extension": ".py",
      "mimetype": "text/x-python",
      "name": "python",
      "nbconvert_exporter": "python",
      "pygments_lexer": "ipython3",
      "version": "3.10.13"
    }
  },
  "nbformat": 4,
  "nbformat_minor": 0
}
