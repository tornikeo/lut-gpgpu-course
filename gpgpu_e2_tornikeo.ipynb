{
  "cells": [
    {
      "cell_type": "markdown",
      "metadata": {
        "colab_type": "text",
        "id": "view-in-github"
      },
      "source": [
        "<a href=\"https://colab.research.google.com/github/tornikeo/lut-gpgpu-course/blob/main/gpgpu_e2_tornikeo.ipynb\" target=\"_parent\"><img src=\"https://colab.research.google.com/assets/colab-badge.svg\" alt=\"Open In Colab\"/></a>"
      ]
    },
    {
      "cell_type": "markdown",
      "metadata": {},
      "source": [
        "Student: Tornike Onoprishvili   \n",
        "Exercise 2. Reduction patterns in CUDA."
      ]
    },
    {
      "cell_type": "code",
      "execution_count": 1,
      "metadata": {
        "id": "UkvP7vhP3Pt7"
      },
      "outputs": [],
      "source": [
        "from math import ceil as roof\n",
        "\n",
        "import numpy as np\n",
        "import cupy as cp\n",
        "from cupy import cuda\n",
        "\n",
        "assert cuda.is_available()"
      ]
    },
    {
      "cell_type": "markdown",
      "metadata": {
        "id": "X3Sh1S6vRCQp"
      },
      "source": [
        "## Task 1:\n",
        "\n",
        "Implement vector differentiation similar to numpy diff function using shared memory."
      ]
    },
    {
      "cell_type": "code",
      "execution_count": 2,
      "metadata": {
        "id": "V7KN0s075533"
      },
      "outputs": [
        {
          "name": "stdout",
          "output_type": "stream",
          "text": [
            "[ 0.05342758 -0.18849584  0.01305223 ...  0.8025053  -0.6967245\n",
            " -0.06736805]\n",
            "[ 0.05342758 -0.18849584  0.01305223 ...  0.8025053  -0.6967245\n",
            " -0.06736805]\n"
          ]
        },
        {
          "data": {
            "text/plain": [
              "array(True)"
            ]
          },
          "execution_count": 2,
          "metadata": {},
          "output_type": "execute_result"
        }
      ],
      "source": [
        "# First we do the lazy kernel design\n",
        "cp.random.seed(42)\n",
        "size = int(1e6)\n",
        "\n",
        "inp_cu = cp.random.rand(size).astype('float32')\n",
        "out_cu = cp.empty_like(inp_cu)\n",
        "out_cu[-1] = 0\n",
        "\n",
        "kernel_v1 = cp.RawKernel(\n",
        "    r\"\"\"\n",
        "    extern \"C\" __global__\n",
        "    void kernel(float* inp, float* out, int len_inp) {\n",
        "        int tx = threadIdx.x;\n",
        "        int gx = tx + blockIdx.x * blockDim.x;\n",
        "        if (gx < len_inp - 1) {\n",
        "            out[gx] = inp[gx + 1] - inp[gx];\n",
        "        }\n",
        "    }\n",
        "    \"\"\",'kernel'\n",
        ")\n",
        "\n",
        "THREADS_PER_BLOCK = (1024,1,1)\n",
        "BLOCKS_PER_GRID = (roof(len(inp_cu) / (THREADS_PER_BLOCK[0] - 1)), 1, 1)\n",
        "\n",
        "kernel_v1(\n",
        "    BLOCKS_PER_GRID, THREADS_PER_BLOCK,\n",
        "    (inp_cu, out_cu, cp.int32(len(inp_cu))),\n",
        ")\n",
        "\n",
        "y_true = cp.diff(inp_cu)\n",
        "y_pred = cp.asnumpy(out_cu[:-1])\n",
        "\n",
        "print(y_true)\n",
        "print(y_pred)\n",
        "\n",
        "cp.allclose(y_true, y_pred)"
      ]
    },
    {
      "cell_type": "code",
      "execution_count": 3,
      "metadata": {},
      "outputs": [
        {
          "name": "stdout",
          "output_type": "stream",
          "text": [
            "[ 0.05342758 -0.18849584  0.01305223 ...  0.8025053  -0.6967245\n",
            " -0.06736805]\n",
            "[ 0.05342758 -0.18849584  0.01305223 ...  0.8025053  -0.6967245\n",
            " -0.06736805]\n"
          ]
        },
        {
          "data": {
            "text/plain": [
              "array(True)"
            ]
          },
          "execution_count": 3,
          "metadata": {},
          "output_type": "execute_result"
        }
      ],
      "source": [
        "# Better kernel with shared mem\n",
        "\n",
        "cp.random.seed(42)\n",
        "size = int(1e6)\n",
        "\n",
        "inp_cu = cp.random.rand(size).astype('float32')\n",
        "out_cu = cp.empty_like(inp_cu)\n",
        "out_cu[-1] = 0\n",
        "\n",
        "        \n",
        "# @cuda.jit\n",
        "# def kernel_v2(inp, out):\n",
        "#     tx = cuda.threadIdx.x\n",
        "#     bx = cuda.blockIdx.x\n",
        "    \n",
        "#     gx = cuda.grid(1)\n",
        "#     sh = cuda.shared.array(THREADS_PER_BLOCK[0], numba.types.float32)\n",
        "\n",
        "#     if gx - bx < len(inp):\n",
        "#         sh[tx] = inp[gx - bx]\n",
        "    \n",
        "#     cuda.syncthreads()\n",
        "    \n",
        "#     if gx - bx < len(inp) and tx + 1 < len(sh):\n",
        "#         out[gx - bx] = sh[tx + 1] - sh[tx]\n",
        "\n",
        "kernel_v2 = cp.RawKernel(\n",
        "    r\"\"\"\n",
        "    extern \"C\" __global__\n",
        "    void kernel(float* inp, float* out, int len_inp, int len_sh) {\n",
        "        int tx = threadIdx.x;\n",
        "        int bx = blockIdx.x;\n",
        "        int gx = tx + bx * blockDim.x;\n",
        "        \n",
        "        extern __shared__ float sh[];\n",
        "        \n",
        "        if (gx - bx < len_inp) {\n",
        "            sh[tx] = inp[gx - bx];\n",
        "        }\n",
        "        \n",
        "        __syncthreads();\n",
        "        \n",
        "        if (gx - bx < len_inp && tx + 1 < len_sh) {\n",
        "            out[gx - bx] = sh[tx + 1] - sh[tx];\n",
        "        }\n",
        "    }\n",
        "    \"\"\",'kernel'\n",
        ")\n",
        "\n",
        "THREADS_PER_BLOCK = (1024,1,1)\n",
        "BLOCKS_PER_GRID = (roof(len(inp_cu) / (THREADS_PER_BLOCK[0] - 1)), 1, 1)\n",
        "\n",
        "kernel_v2(\n",
        "    BLOCKS_PER_GRID, THREADS_PER_BLOCK,\n",
        "    ( \n",
        "     inp_cu, \n",
        "     out_cu, \n",
        "     cp.int32(len(inp_cu)), \n",
        "     cp.int32(THREADS_PER_BLOCK[0])\n",
        "    ),\n",
        "    shared_mem=(32//8) * THREADS_PER_BLOCK[0]\n",
        ")\n",
        "\n",
        "y_true = cp.diff(inp_cu)\n",
        "y_pred = cp.asnumpy(out_cu[:-1])\n",
        "\n",
        "print(y_true)\n",
        "print(y_pred)\n",
        "\n",
        "cp.allclose(y_true, y_pred)"
      ]
    },
    {
      "cell_type": "markdown",
      "metadata": {
        "id": "lJTqZaJiRHq0"
      },
      "source": [
        "## Task 2:\n",
        "\n",
        "Implement the three reduction models presented in the lectures. Time their performance against different vector sizes. Execution times can vary between executions, so run them for example 100 times and take the average time.\n",
        "\n",
        "Use for example $2^{10}$, $2^{13}$, $2^{16}$, $2^{20}$, and $2^{22}$ values and plot them into same graph.\n",
        "\n",
        "Add also CPU performance with numpy sum() - function."
      ]
    },
    {
      "cell_type": "markdown",
      "metadata": {},
      "source": [
        "Sequential reduction"
      ]
    },
    {
      "cell_type": "code",
      "execution_count": 4,
      "metadata": {
        "id": "FWakPHdf9stL"
      },
      "outputs": [
        {
          "name": "stdout",
          "output_type": "stream",
          "text": [
            "499729.5\n",
            "499729.56\n"
          ]
        },
        {
          "data": {
            "text/plain": [
              "array(True)"
            ]
          },
          "execution_count": 4,
          "metadata": {},
          "output_type": "execute_result"
        }
      ],
      "source": [
        "# Reduction interleaved\n",
        "cp.random.seed(42)\n",
        "size = int(1e6)\n",
        "\n",
        "inp_cu = cp.random.rand(size).astype('float32')\n",
        "inp_acum_cu = cp.copy(inp_cu)\n",
        "\n",
        "# @cuda.jit\n",
        "# def kernel_sequential(inp: np.ndarray, \n",
        "#                       stride: int):\n",
        "#     gx = cuda.grid(1)\n",
        "#     if (gx % (stride * 2)) == 0 and gx + stride < len(inp):\n",
        "#         inp[gx] += inp[gx + stride]\n",
        "\n",
        "kernel_interleaved = cp.RawKernel(\n",
        "    r\"\"\"\n",
        "    extern \"C\" __global__\n",
        "    void kernel(float* inp, int stride, int len_inp) {\n",
        "        int tx = threadIdx.x;\n",
        "        int bx = blockIdx.x;\n",
        "        int gx = tx + bx * blockDim.x;\n",
        "        \n",
        "        if (gx % (stride * 2) == 0 && gx + stride < len_inp) {\n",
        "            inp[gx] += inp[gx + stride];\n",
        "        }\n",
        "    }\n",
        "    \"\"\",'kernel'\n",
        ")\n",
        "\n",
        "\n",
        "THREADS_PER_BLOCK = (1024,1,1)\n",
        "BLOCKS_PER_GRID = (roof(len(inp_cu) / THREADS_PER_BLOCK[0]), 1, 1)\n",
        "\n",
        "stride = 1\n",
        "\n",
        "while stride < len(inp_acum_cu):\n",
        "    kernel_interleaved(\n",
        "        BLOCKS_PER_GRID, \n",
        "        THREADS_PER_BLOCK,\n",
        "        (\n",
        "            inp_acum_cu, \n",
        "            stride,\n",
        "            cp.int32(len(inp_acum_cu)),\n",
        "        )\n",
        "    )\n",
        "    stride *= 2\n",
        "\n",
        "y_true = np.sum(inp_cu)\n",
        "y_pred = inp_acum_cu[0]\n",
        "\n",
        "print(y_true)\n",
        "print(y_pred)\n",
        "\n",
        "np.allclose(y_true, y_pred)"
      ]
    },
    {
      "cell_type": "code",
      "execution_count": 54,
      "metadata": {},
      "outputs": [
        {
          "name": "stdout",
          "output_type": "stream",
          "text": [
            "[1. 1. 1. ... 1. 1. 1.]\n",
            "512\n",
            "[2. 2. 2. ... 0. 0. 0.]\n",
            "256\n",
            "[4. 4. 4. ... 0. 0. 0.]\n",
            "128\n",
            "[8. 8. 8. ... 0. 0. 0.]\n",
            "64\n",
            "[16. 16. 16. ...  0.  0.  0.]\n",
            "32\n",
            "[32. 32. 32. ...  0.  0.  0.]\n",
            "16\n",
            "[64. 64. 64. ...  0.  0.  0.]\n",
            "8\n",
            "[128. 128. 128. ...   0.   0.   0.]\n",
            "4\n",
            "[256. 256. 256. ...   0.   0.   0.]\n",
            "2\n",
            "[512. 512.  32. ...   0.   0.   0.]\n",
            "1\n",
            "[1024.   32.   32. ...    0.    0.    0.]\n",
            "1024.0\n",
            "1024.0\n"
          ]
        },
        {
          "data": {
            "text/plain": [
              "array(True)"
            ]
          },
          "execution_count": 54,
          "metadata": {},
          "output_type": "execute_result"
        }
      ],
      "source": [
        "# Reduction sequential\n",
        "cp.random.seed(42)\n",
        "size = int(2 ** 10)\n",
        "\n",
        "# inp_cu = cp.random.rand(size).astype('float32')\n",
        "# inp_cu = cp.arange(size).astype('float32')\n",
        "inp_cu = cp.ones(size).astype('float32')\n",
        "inp_acum_cu = cp.copy(inp_cu)\n",
        "\n",
        "kernel_sequential = cp.RawKernel(\n",
        "    r\"\"\"\n",
        "    extern \"C\" __global__\n",
        "    void kernel(float* inp, int stride, int len_inp) {\n",
        "        int tx = threadIdx.x;\n",
        "        int bx = blockIdx.x;\n",
        "        int gx = tx + bx * blockDim.x;\n",
        "        \n",
        "        if (gx + stride < len_inp) {\n",
        "            float v = inp[gx + stride];\n",
        "            inp[gx + stride] = 0;\n",
        "            inp[gx] += v;\n",
        "        }\n",
        "    }\n",
        "    \"\"\",'kernel'\n",
        ")\n",
        "\n",
        "\n",
        "THREADS_PER_BLOCK = (8,1,1)\n",
        "BLOCKS_PER_GRID = (roof(len(inp_cu) / THREADS_PER_BLOCK[0]), 1, 1)\n",
        "\n",
        "stride = len(inp_acum_cu) // 2\n",
        "while stride > 0:\n",
        "    print(inp_acum_cu)\n",
        "    print(stride)\n",
        "    kernel_sequential(\n",
        "        BLOCKS_PER_GRID, \n",
        "        THREADS_PER_BLOCK,\n",
        "        (\n",
        "            inp_acum_cu, \n",
        "            cp.int32(stride),\n",
        "            cp.int32(len(inp_acum_cu)),\n",
        "        )\n",
        "    )\n",
        "    stride = stride // 2\n",
        "print(inp_acum_cu)\n",
        "\n",
        "y_true = inp_cu.sum()\n",
        "y_pred = inp_acum_cu[0]\n",
        "\n",
        "print(y_true)\n",
        "print(y_pred)\n",
        "\n",
        "np.allclose(y_true, y_pred)"
      ]
    },
    {
      "cell_type": "markdown",
      "metadata": {},
      "source": [
        "## Task 3:\n",
        "\n",
        "Extend the kernel from task 2 to use shared memory."
      ]
    },
    {
      "cell_type": "code",
      "execution_count": 6,
      "metadata": {},
      "outputs": [
        {
          "name": "stdout",
          "output_type": "stream",
          "text": [
            "499729.5\n",
            "499729.56\n"
          ]
        },
        {
          "data": {
            "text/plain": [
              "array(True)"
            ]
          },
          "execution_count": 6,
          "metadata": {},
          "output_type": "execute_result"
        }
      ],
      "source": [
        "# Shared mem + sequential\n",
        "cp.random.seed(42)\n",
        "size = int(1e6)\n",
        "\n",
        "inp_cu = cp.random.rand(size).astype('float32')\n",
        "inp_acum_cu = cp.copy(inp_cu)\n",
        "\n",
        "\n",
        "# @cuda.jit\n",
        "# def kernel_sequential_shared(\n",
        "#         inp: np.ndarray,\n",
        "#         size: int,\n",
        "#     ):\n",
        "#     gx = cuda.grid(1)\n",
        "#     tx = cuda.threadIdx.x\n",
        "#     sh = cuda.shared.array(THREADS_PER_BLOCK[0], types.float32)\n",
        "    \n",
        "#     if gx < size:\n",
        "#         sh[tx] = inp[gx]\n",
        "#     else:\n",
        "#         sh[tx] = 0\n",
        "    \n",
        "#     cuda.syncthreads()\n",
        "    \n",
        "#     stride = 1\n",
        "#     while True:\n",
        "#         if not (stride < cuda.blockDim.x):\n",
        "#             break\n",
        "        \n",
        "#         if tx % (stride * 2) == 0 and tx + stride < len(sh):\n",
        "#             sh[tx] += sh[tx + stride]\n",
        "#         cuda.syncthreads()  \n",
        "        \n",
        "#         stride *= 2        \n",
        "    \n",
        "#     if tx == 0:\n",
        "#         inp[cuda.blockIdx.x] = sh[0]\n",
        "kernel_sequential_shared = cp.RawKernel(\n",
        "    r\"\"\"\n",
        "    extern \"C\" __global__\n",
        "    void kernel(float* inp, int size, int len_sh) {\n",
        "        int tx = threadIdx.x;\n",
        "        int bx = blockIdx.x;\n",
        "        int gx = tx + bx * blockDim.x;\n",
        "        \n",
        "        extern __shared__ float sh[];\n",
        "        if (gx < size) {\n",
        "            sh[tx] = inp[gx];\n",
        "        } else {\n",
        "            sh[tx] = 0;\n",
        "        }\n",
        "        \n",
        "        __syncthreads();\n",
        "        \n",
        "        int stride = 1;\n",
        "        while (true) {\n",
        "            if ( !(stride < blockDim.x) ) {\n",
        "                break;\n",
        "            }\n",
        "            \n",
        "            if ( tx % (stride * 2) == 0 && tx + stride < len_sh ) {\n",
        "                sh[tx] += sh[tx + stride];\n",
        "            }\n",
        "            __syncthreads();\n",
        "            stride *= 2;\n",
        "        }\n",
        "        if (tx == 0) {\n",
        "            inp[bx] = sh[0];\n",
        "        }\n",
        "    }\n",
        "    \"\"\",'kernel'\n",
        ")\n",
        "\n",
        "THREADS_PER_BLOCK = (1024,1,1)\n",
        "BLOCKS_PER_GRID = (roof(len(inp_acum_cu) / THREADS_PER_BLOCK[0]), 1, 1)\n",
        "\n",
        "size_iter = len(inp_acum_cu)\n",
        "while size_iter > 1:\n",
        "    kernel_sequential_shared(\n",
        "        BLOCKS_PER_GRID, THREADS_PER_BLOCK, \n",
        "        (\n",
        "            inp_acum_cu, \n",
        "            cp.int32(size_iter),\n",
        "            cp.int32(THREADS_PER_BLOCK[0]),\n",
        "        ),\n",
        "        shared_mem=(32//4)*THREADS_PER_BLOCK[0]\n",
        "    )\n",
        "    size_iter = roof(size_iter / THREADS_PER_BLOCK[0])\n",
        "\n",
        "y_true = np.sum(inp_cu)\n",
        "y_pred = inp_acum_cu[0]\n",
        "\n",
        "print(y_true)\n",
        "print(y_pred)\n",
        "\n",
        "np.allclose(y_true, y_pred)"
      ]
    },
    {
      "cell_type": "code",
      "execution_count": 28,
      "metadata": {},
      "outputs": [
        {
          "data": {
            "image/png": "[encoded data removed]",
            "text/plain": [
              "<Figure size 640x480 with 1 Axes>"
            ]
          },
          "metadata": {},
          "output_type": "display_data"
        }
      ],
      "source": [
        "import matplotlib.pyplot as plt\n",
        "from time import  perf_counter\n",
        "\n",
        "mempool = cp.get_default_memory_pool()\n",
        "mempool.free_all_blocks()\n",
        "\n",
        "sizes = np.logspace(10, 23, base=2, num=14, dtype='int32')\n",
        "inputs = []\n",
        "\n",
        "for size in sizes:\n",
        "    size = int(size)\n",
        "    inp = cp.random.uniform(size=size).astype('float32')\n",
        "    inputs.append(inp)\n",
        "    \n",
        "mean_times = []\n",
        "\n",
        "for i, size in enumerate(sizes):\n",
        "    size = int(size)\n",
        "    times = []\n",
        "    for _ in range(100):\n",
        "        inp_cu = cp.copy(inputs[i])\n",
        "        THREADS_PER_BLOCK = (1024, 1, 1)\n",
        "        BLOCKS_PER_GRID = (roof(len(inp_cu) / THREADS_PER_BLOCK[0]), 1, 1)\n",
        "        size_iter = len(inp_cu)\n",
        "        duration =- perf_counter()\n",
        "        while size_iter > 1:\n",
        "            kernel_sequential_shared(\n",
        "                BLOCKS_PER_GRID, THREADS_PER_BLOCK, \n",
        "                (\n",
        "                    inp_cu, \n",
        "                    cp.int32(size_iter),\n",
        "                    cp.int32(THREADS_PER_BLOCK[0]),\n",
        "                ),\n",
        "                shared_mem=(32//4)*THREADS_PER_BLOCK[0]\n",
        "            )            \n",
        "            size_iter = roof(size_iter / THREADS_PER_BLOCK[0])\n",
        "        duration += perf_counter()\n",
        "        times.append(duration)\n",
        "    mean_times.append(np.mean(times))\n",
        "plt.semilogx(sizes, mean_times, label='cuda shared mem')\n",
        "\n",
        "vals = [] # This is to make sure numpy *does* compute results\n",
        "mean_times = []\n",
        "for i, size in enumerate(sizes):\n",
        "    size = int(size)\n",
        "    times = []\n",
        "    inp = cp.asnumpy(inputs[i])\n",
        "    for _ in range(100):\n",
        "        duration =- perf_counter()\n",
        "        vals.append(inp.sum())\n",
        "        duration += perf_counter()\n",
        "        times.append(duration)\n",
        "    mean_times.append(np.mean(times))\n",
        "    \n",
        "plt.semilogx(sizes, mean_times, label='np.sum')\n",
        "plt.xlabel(\"Array size\")\n",
        "plt.ylabel(\"wall-clock time (ms)\")\n",
        "plt.legend()\n",
        "plt.show()"
      ]
    }
  ],
  "metadata": {
    "accelerator": "GPU",
    "colab": {
      "authorship_tag": "ABX9TyM6SXsinTDwUr9t1DbwwF7p",
      "gpuType": "T4",
      "include_colab_link": true,
      "provenance": []
    },
    "kernelspec": {
      "display_name": "Python 3",
      "name": "python3"
    },
    "language_info": {
      "codemirror_mode": {
        "name": "ipython",
        "version": 3
      },
      "file_extension": ".py",
      "mimetype": "text/x-python",
      "name": "python",
      "nbconvert_exporter": "python",
      "pygments_lexer": "ipython3",
      "version": "3.10.13"
    }
  },
  "nbformat": 4,
  "nbformat_minor": 0
}
