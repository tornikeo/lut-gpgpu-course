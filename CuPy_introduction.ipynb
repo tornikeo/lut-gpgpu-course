{
  "nbformat": 4,
  "nbformat_minor": 0,
  "metadata": {
    "colab": {
      "provenance": [],
      "gpuType": "T4"
    },
    "kernelspec": {
      "name": "python3",
      "display_name": "Python 3"
    },
    "language_info": {
      "name": "python"
    },
    "accelerator": "GPU"
  },
  "cells": [
    {
      "cell_type": "markdown",
      "source": [
        "Import the libraries we need. CuPy can be found readily installed on Google Colab."
      ],
      "metadata": {
        "id": "olfmKi7dvsfV"
      }
    },
    {
      "cell_type": "code",
      "execution_count": 1,
      "metadata": {
        "id": "qwyrUJlMviIY"
      },
      "outputs": [],
      "source": [
        "import numpy as np\n",
        "import cupy as cp"
      ]
    },
    {
      "cell_type": "markdown",
      "source": [
        "Data can be created with the array() function, just like in NumPy. But of course it will be GPU."
      ],
      "metadata": {
        "id": "8HQEFARywCit"
      }
    },
    {
      "cell_type": "code",
      "source": [
        "x_gpu = cp.array([1,2,3])\n",
        "l2_gpu = cp.linalg.norm(x_gpu)\n",
        "print(l2_gpu)\n"
      ],
      "metadata": {
        "colab": {
          "base_uri": "https://localhost:8080/"
        },
        "id": "ORiFcJyowVF_",
        "outputId": "417490bf-22c7-4d2d-b306-7da683fd05fe"
      },
      "execution_count": 2,
      "outputs": [
        {
          "output_type": "stream",
          "name": "stdout",
          "text": [
            "3.7416573867739413\n"
          ]
        }
      ]
    },
    {
      "cell_type": "code",
      "source": [
        "x_cpu = np.array([1,2,3])\n",
        "l2_cpu = np.linalg.norm(x_cpu)\n",
        "print(l2_cpu)"
      ],
      "metadata": {
        "colab": {
          "base_uri": "https://localhost:8080/"
        },
        "id": "7CnCo8VxwzCa",
        "outputId": "e0138061-8bdf-45b5-836e-4434550df19d"
      },
      "execution_count": 3,
      "outputs": [
        {
          "output_type": "stream",
          "name": "stdout",
          "text": [
            "3.7416573867739413\n"
          ]
        }
      ]
    },
    {
      "cell_type": "code",
      "source": [
        "print(type(x_gpu))\n",
        "print(type(l2_gpu))\n",
        "print(type(x_cpu))\n",
        "print(type(l2_cpu))"
      ],
      "metadata": {
        "colab": {
          "base_uri": "https://localhost:8080/"
        },
        "id": "NBFguJuYxJt5",
        "outputId": "329dacfe-79f5-4be0-af4b-ba6e3e512075"
      },
      "execution_count": 5,
      "outputs": [
        {
          "output_type": "stream",
          "name": "stdout",
          "text": [
            "<class 'cupy.ndarray'>\n",
            "<class 'cupy.ndarray'>\n",
            "<class 'numpy.ndarray'>\n",
            "<class 'numpy.float64'>\n"
          ]
        }
      ]
    },
    {
      "cell_type": "markdown",
      "source": [
        "### Multiple GPUs?\n",
        "No problem, CuPy has you covered"
      ],
      "metadata": {
        "id": "nvY0LpXzxnKY"
      }
    },
    {
      "cell_type": "code",
      "source": [
        "x_on_gpu0 = cp.array([1,2,3,4])\n",
        "\n",
        "#with cp.cuda.Device(1):\n",
        "#  x_on_gpu1 = cp.array([1,2,3,4,5])"
      ],
      "metadata": {
        "colab": {
          "base_uri": "https://localhost:8080/",
          "height": 331
        },
        "id": "CmCaDcsxxvqO",
        "outputId": "b22267d0-343b-462b-a604-7cbe068c07a4"
      },
      "execution_count": 7,
      "outputs": [
        {
          "output_type": "error",
          "ename": "CUDARuntimeError",
          "evalue": "cudaErrorInvalidDevice: invalid device ordinal",
          "traceback": [
            "\u001b[0;31m---------------------------------------------------------------------------\u001b[0m",
            "\u001b[0;31mCUDARuntimeError\u001b[0m                          Traceback (most recent call last)",
            "\u001b[0;32m<ipython-input-7-794401807ea9>\u001b[0m in \u001b[0;36m<cell line: 3>\u001b[0;34m()\u001b[0m\n\u001b[1;32m      1\u001b[0m \u001b[0mx_on_gpu0\u001b[0m \u001b[0;34m=\u001b[0m \u001b[0mcp\u001b[0m\u001b[0;34m.\u001b[0m\u001b[0marray\u001b[0m\u001b[0;34m(\u001b[0m\u001b[0;34m[\u001b[0m\u001b[0;36m1\u001b[0m\u001b[0;34m,\u001b[0m\u001b[0;36m2\u001b[0m\u001b[0;34m,\u001b[0m\u001b[0;36m3\u001b[0m\u001b[0;34m,\u001b[0m\u001b[0;36m4\u001b[0m\u001b[0;34m]\u001b[0m\u001b[0;34m)\u001b[0m\u001b[0;34m\u001b[0m\u001b[0;34m\u001b[0m\u001b[0m\n\u001b[1;32m      2\u001b[0m \u001b[0;34m\u001b[0m\u001b[0m\n\u001b[0;32m----> 3\u001b[0;31m \u001b[0;32mwith\u001b[0m \u001b[0mcp\u001b[0m\u001b[0;34m.\u001b[0m\u001b[0mcuda\u001b[0m\u001b[0;34m.\u001b[0m\u001b[0mDevice\u001b[0m\u001b[0;34m(\u001b[0m\u001b[0;36m1\u001b[0m\u001b[0;34m)\u001b[0m\u001b[0;34m:\u001b[0m\u001b[0;34m\u001b[0m\u001b[0;34m\u001b[0m\u001b[0m\n\u001b[0m\u001b[1;32m      4\u001b[0m   \u001b[0mx_on_gpu1\u001b[0m \u001b[0;34m=\u001b[0m \u001b[0mcp\u001b[0m\u001b[0;34m.\u001b[0m\u001b[0marray\u001b[0m\u001b[0;34m(\u001b[0m\u001b[0;34m[\u001b[0m\u001b[0;36m1\u001b[0m\u001b[0;34m,\u001b[0m\u001b[0;36m2\u001b[0m\u001b[0;34m,\u001b[0m\u001b[0;36m3\u001b[0m\u001b[0;34m,\u001b[0m\u001b[0;36m4\u001b[0m\u001b[0;34m,\u001b[0m\u001b[0;36m5\u001b[0m\u001b[0;34m]\u001b[0m\u001b[0;34m)\u001b[0m\u001b[0;34m\u001b[0m\u001b[0;34m\u001b[0m\u001b[0m\n",
            "\u001b[0;32mcupy/cuda/device.pyx\u001b[0m in \u001b[0;36mcupy.cuda.device.Device.__enter__\u001b[0;34m()\u001b[0m\n",
            "\u001b[0;32mcupy_backends/cuda/api/runtime.pyx\u001b[0m in \u001b[0;36mcupy_backends.cuda.api.runtime.setDevice\u001b[0;34m()\u001b[0m\n",
            "\u001b[0;32mcupy_backends/cuda/api/runtime.pyx\u001b[0m in \u001b[0;36mcupy_backends.cuda.api.runtime.check_status\u001b[0;34m()\u001b[0m\n",
            "\u001b[0;31mCUDARuntimeError\u001b[0m: cudaErrorInvalidDevice: invalid device ordinal"
          ]
        }
      ]
    },
    {
      "cell_type": "markdown",
      "source": [
        "## Data transfr to the GPU\n",
        "\n",
        "cupy.asarray() can be used to numpy.ndarray, lisr or any other type that can be passed to numpy.arra() to the current device."
      ],
      "metadata": {
        "id": "hnMmeG9myaBX"
      }
    },
    {
      "cell_type": "code",
      "source": [
        "x_cpu = np.array([1,2,3])\n",
        "print(type(x_cpu))"
      ],
      "metadata": {
        "colab": {
          "base_uri": "https://localhost:8080/"
        },
        "id": "1imOMzmkyvM2",
        "outputId": "4f416fe1-ce50-4291-da27-725f54af63a9"
      },
      "execution_count": 10,
      "outputs": [
        {
          "output_type": "stream",
          "name": "stdout",
          "text": [
            "<class 'numpy.ndarray'>\n"
          ]
        }
      ]
    },
    {
      "cell_type": "code",
      "source": [
        "x_gpu = cp.asarray(x_cpu)\n",
        "print(type(x_gpu))"
      ],
      "metadata": {
        "colab": {
          "base_uri": "https://localhost:8080/"
        },
        "id": "Mq_i2kh3y050",
        "outputId": "f27bddb5-c9da-4db7-9fdb-8b21c48a9cf1"
      },
      "execution_count": 11,
      "outputs": [
        {
          "output_type": "stream",
          "name": "stdout",
          "text": [
            "<class 'cupy.ndarray'>\n"
          ]
        }
      ]
    },
    {
      "cell_type": "markdown",
      "source": [
        "### Move array from device to the host\n",
        "\n",
        "For this the CuPy functions asnumpy() and get() can be used"
      ],
      "metadata": {
        "id": "a7fViNi-zJCj"
      }
    },
    {
      "cell_type": "code",
      "source": [
        "x_gpu = cp.array([1,2,3])\n",
        "print(x_gpu)\n",
        "print(type(x_gpu))\n",
        "\n"
      ],
      "metadata": {
        "colab": {
          "base_uri": "https://localhost:8080/"
        },
        "id": "OLzP8KjJzZgv",
        "outputId": "d818a7a0-7d34-4915-9856-a6c9302845b5"
      },
      "execution_count": 12,
      "outputs": [
        {
          "output_type": "stream",
          "name": "stdout",
          "text": [
            "[1 2 3]\n",
            "<class 'cupy.ndarray'>\n"
          ]
        }
      ]
    },
    {
      "cell_type": "code",
      "source": [
        "x_cpu = cp.asnumpy(x_gpu)\n",
        "print(x_cpu)\n",
        "print(type(x_cpu))"
      ],
      "metadata": {
        "colab": {
          "base_uri": "https://localhost:8080/"
        },
        "id": "fwVhTaP4zlWp",
        "outputId": "fa1e92d6-62d7-40f4-906f-bff3a5c5cc0f"
      },
      "execution_count": 13,
      "outputs": [
        {
          "output_type": "stream",
          "name": "stdout",
          "text": [
            "[1 2 3]\n",
            "<class 'numpy.ndarray'>\n"
          ]
        }
      ]
    },
    {
      "cell_type": "code",
      "source": [
        "x_gpu = cp.array([1,2,3])\n",
        "print(x_gpu)\n",
        "print(type(x_gpu))"
      ],
      "metadata": {
        "colab": {
          "base_uri": "https://localhost:8080/"
        },
        "id": "BjfSdNB8z2gc",
        "outputId": "ac03454d-f283-42f5-d4a8-dbc97c79351d"
      },
      "execution_count": 14,
      "outputs": [
        {
          "output_type": "stream",
          "name": "stdout",
          "text": [
            "[1 2 3]\n",
            "<class 'cupy.ndarray'>\n"
          ]
        }
      ]
    },
    {
      "cell_type": "code",
      "source": [
        "x_cpu = x_gpu.get()\n",
        "print(x_cpu)\n",
        "print(type(x_cpu))"
      ],
      "metadata": {
        "colab": {
          "base_uri": "https://localhost:8080/"
        },
        "id": "7dq73fUm0Djk",
        "outputId": "503d590b-99a3-4c75-e6ba-f652765285b9"
      },
      "execution_count": 15,
      "outputs": [
        {
          "output_type": "stream",
          "name": "stdout",
          "text": [
            "[1 2 3]\n",
            "<class 'numpy.ndarray'>\n"
          ]
        }
      ]
    },
    {
      "cell_type": "markdown",
      "source": [
        "### Operations betwen CPU and GPU\n",
        "Rembember to have your data on the same device when you do operation between them."
      ],
      "metadata": {
        "id": "DEgFGT560cCh"
      }
    },
    {
      "cell_type": "code",
      "source": [
        "x_cpu = np.array([1,2,3])\n",
        "y_cpu = np.array([4,5,6])\n",
        "x_cpu + y_cpu"
      ],
      "metadata": {
        "colab": {
          "base_uri": "https://localhost:8080/"
        },
        "id": "cN7GoQ0H0s-V",
        "outputId": "ca081bdf-44fd-4eb4-d1d5-d3fb12ef0c52"
      },
      "execution_count": 16,
      "outputs": [
        {
          "output_type": "execute_result",
          "data": {
            "text/plain": [
              "array([5, 7, 9])"
            ]
          },
          "metadata": {},
          "execution_count": 16
        }
      ]
    },
    {
      "cell_type": "code",
      "source": [
        "x_gpu = cp.asarray(x_cpu)\n",
        "\n",
        "# x_gpu + x_cpu"
      ],
      "metadata": {
        "id": "R6nyBmLO075D"
      },
      "execution_count": 18,
      "outputs": []
    },
    {
      "cell_type": "code",
      "source": [
        "cp.asnumpy(x_gpu) + y_cpu"
      ],
      "metadata": {
        "colab": {
          "base_uri": "https://localhost:8080/"
        },
        "id": "gBVvAPzv1Q26",
        "outputId": "f2e9941b-cc78-4fbd-d56d-5ef4db0fea69"
      },
      "execution_count": 19,
      "outputs": [
        {
          "output_type": "execute_result",
          "data": {
            "text/plain": [
              "array([5, 7, 9])"
            ]
          },
          "metadata": {},
          "execution_count": 19
        }
      ]
    },
    {
      "cell_type": "code",
      "source": [
        "x_gpu + cp.asarray(y_cpu)"
      ],
      "metadata": {
        "colab": {
          "base_uri": "https://localhost:8080/"
        },
        "id": "WYkENcbP1e75",
        "outputId": "9133ca92-3ebf-418b-b3dc-c976819ace55"
      },
      "execution_count": 20,
      "outputs": [
        {
          "output_type": "execute_result",
          "data": {
            "text/plain": [
              "array([5, 7, 9])"
            ]
          },
          "metadata": {},
          "execution_count": 20
        }
      ]
    },
    {
      "cell_type": "markdown",
      "source": [
        "### CuPy functions\n",
        "\n",
        "CuPy supports most of the functions that NumPy provides. Here just examples."
      ],
      "metadata": {
        "id": "1XbLpE7A1rD2"
      }
    },
    {
      "cell_type": "code",
      "source": [
        "a = cp.empty(10)\n",
        "print(a)"
      ],
      "metadata": {
        "colab": {
          "base_uri": "https://localhost:8080/"
        },
        "id": "JA6ZZ9ot13lj",
        "outputId": "3523f262-5392-4ce7-c60e-d13f36ab1d7a"
      },
      "execution_count": 22,
      "outputs": [
        {
          "output_type": "stream",
          "name": "stdout",
          "text": [
            "[2.0e-323 2.5e-323 3.0e-323 0.0e+000 0.0e+000 0.0e+000 0.0e+000 0.0e+000\n",
            " 0.0e+000 0.0e+000]\n"
          ]
        }
      ]
    },
    {
      "cell_type": "code",
      "source": [
        "b = cp.ones_like(a)\n",
        "print(b)"
      ],
      "metadata": {
        "colab": {
          "base_uri": "https://localhost:8080/"
        },
        "id": "elejrI-_2IHx",
        "outputId": "2db3b56b-9f84-495d-ccab-3842747314d9"
      },
      "execution_count": 24,
      "outputs": [
        {
          "output_type": "stream",
          "name": "stdout",
          "text": [
            "[1. 1. 1. 1. 1. 1. 1. 1. 1. 1.]\n"
          ]
        }
      ]
    },
    {
      "cell_type": "code",
      "source": [
        "a = cp.zeros((4,4))\n",
        "print(a)"
      ],
      "metadata": {
        "colab": {
          "base_uri": "https://localhost:8080/"
        },
        "id": "RkNnZrOQ2qps",
        "outputId": "d30fa571-133c-4368-bd09-ea49287b5249"
      },
      "execution_count": 25,
      "outputs": [
        {
          "output_type": "stream",
          "name": "stdout",
          "text": [
            "[[0. 0. 0. 0.]\n",
            " [0. 0. 0. 0.]\n",
            " [0. 0. 0. 0.]\n",
            " [0. 0. 0. 0.]]\n"
          ]
        }
      ]
    },
    {
      "cell_type": "code",
      "source": [
        "c = cp.reshape(a, a.size)\n",
        "print(c)"
      ],
      "metadata": {
        "colab": {
          "base_uri": "https://localhost:8080/"
        },
        "id": "fnPBqBGN2zDO",
        "outputId": "bddf3739-12a5-4080-cfda-290d221f38a5"
      },
      "execution_count": 26,
      "outputs": [
        {
          "output_type": "stream",
          "name": "stdout",
          "text": [
            "[0. 0. 0. 0. 0. 0. 0. 0. 0. 0. 0. 0. 0. 0. 0. 0.]\n"
          ]
        }
      ]
    },
    {
      "cell_type": "code",
      "source": [
        "d = cp.random.randint(0,10, size=(4,4))\n",
        "print(d)"
      ],
      "metadata": {
        "colab": {
          "base_uri": "https://localhost:8080/"
        },
        "id": "9gtBCci42_FF",
        "outputId": "4052e30d-8037-4f2d-c94f-e0f96c0dc9a3"
      },
      "execution_count": 28,
      "outputs": [
        {
          "output_type": "stream",
          "name": "stdout",
          "text": [
            "[[2 1 8 5]\n",
            " [6 9 8 3]\n",
            " [3 3 4 7]\n",
            " [1 2 6 3]]\n"
          ]
        }
      ]
    },
    {
      "cell_type": "code",
      "source": [
        "e = cp.diag(d,1)\n",
        "print(e)"
      ],
      "metadata": {
        "colab": {
          "base_uri": "https://localhost:8080/"
        },
        "id": "blKDNxbx3OXO",
        "outputId": "2e4c5f3e-f82f-4d83-d172-2841aa6b2bc8"
      },
      "execution_count": 30,
      "outputs": [
        {
          "output_type": "stream",
          "name": "stdout",
          "text": [
            "[1 8 7]\n"
          ]
        }
      ]
    },
    {
      "cell_type": "code",
      "source": [
        "type(e)"
      ],
      "metadata": {
        "colab": {
          "base_uri": "https://localhost:8080/"
        },
        "id": "FHndojmP3bXH",
        "outputId": "6ce7f625-4e4f-4cd7-c896-d2e4777266b6"
      },
      "execution_count": 31,
      "outputs": [
        {
          "output_type": "execute_result",
          "data": {
            "text/plain": [
              "cupy.ndarray"
            ]
          },
          "metadata": {},
          "execution_count": 31
        }
      ]
    },
    {
      "cell_type": "markdown",
      "source": [
        "### Speed differences\n",
        "\n",
        "Is there any difference on speed?"
      ],
      "metadata": {
        "id": "6kc2j-wd3gaq"
      }
    },
    {
      "cell_type": "markdown",
      "source": [
        "Create random vector in CPU"
      ],
      "metadata": {
        "id": "-dK-ACQw3od2"
      }
    },
    {
      "cell_type": "code",
      "source": [
        "%%timeit\n",
        "x_cpu = np.random.randn(1000)"
      ],
      "metadata": {
        "colab": {
          "base_uri": "https://localhost:8080/"
        },
        "id": "FM5eSKdH3sQ5",
        "outputId": "3d97e99d-293e-425c-d9f1-32d0508f6d73"
      },
      "execution_count": 33,
      "outputs": [
        {
          "output_type": "stream",
          "name": "stdout",
          "text": [
            "26.4 µs ± 671 ns per loop (mean ± std. dev. of 7 runs, 10000 loops each)\n"
          ]
        }
      ]
    },
    {
      "cell_type": "markdown",
      "source": [
        "Create random vector in GPU"
      ],
      "metadata": {
        "id": "be0vdW4Z4GA3"
      }
    },
    {
      "cell_type": "code",
      "source": [
        "%%timeit\n",
        "x_gpu = cp.random.randn(1000)"
      ],
      "metadata": {
        "colab": {
          "base_uri": "https://localhost:8080/"
        },
        "id": "2AsAq_2B4FV9",
        "outputId": "6ab47f6e-aa80-460d-b931-178d14cf34ae"
      },
      "execution_count": 34,
      "outputs": [
        {
          "output_type": "stream",
          "name": "stdout",
          "text": [
            "16.3 µs ± 1.64 µs per loop (mean ± std. dev. of 7 runs, 100000 loops each)\n"
          ]
        }
      ]
    },
    {
      "cell_type": "markdown",
      "source": [
        "What about creating the array in CPU and transferring it to the GPU"
      ],
      "metadata": {
        "id": "SNHUCFJG4c2G"
      }
    },
    {
      "cell_type": "code",
      "source": [
        "%%timeit\n",
        "x_cpu = np.random.randn(1000)\n",
        "x_gpu = cp.asarray(x_cpu)"
      ],
      "metadata": {
        "colab": {
          "base_uri": "https://localhost:8080/"
        },
        "id": "Zvz1du_R4jjC",
        "outputId": "a9dc1902-50e7-48c6-d1fc-b8f9fddfb112"
      },
      "execution_count": 35,
      "outputs": [
        {
          "output_type": "stream",
          "name": "stdout",
          "text": [
            "72.7 µs ± 11.9 µs per loop (mean ± std. dev. of 7 runs, 10000 loops each)\n"
          ]
        }
      ]
    },
    {
      "cell_type": "markdown",
      "source": [
        "How long does the copying actually take."
      ],
      "metadata": {
        "id": "hBYyGCUT5BJi"
      }
    },
    {
      "cell_type": "code",
      "source": [
        "%%timeit\n",
        "x_gpu = cp.asarray(x_cpu)"
      ],
      "metadata": {
        "colab": {
          "base_uri": "https://localhost:8080/"
        },
        "id": "jeifVaoX5GX4",
        "outputId": "7cf31101-658e-49a2-b696-6807ad448f89"
      },
      "execution_count": 36,
      "outputs": [
        {
          "output_type": "stream",
          "name": "stdout",
          "text": [
            "29 µs ± 871 ns per loop (mean ± std. dev. of 7 runs, 10000 loops each)\n"
          ]
        }
      ]
    },
    {
      "cell_type": "markdown",
      "source": [
        "One has to also consider that copying data back from the GPU takes some time."
      ],
      "metadata": {
        "id": "6N39Zb-15cQW"
      }
    },
    {
      "cell_type": "code",
      "source": [
        "%%timeit\n",
        "x_cpu = cp.asnumpy(x_gpu)"
      ],
      "metadata": {
        "colab": {
          "base_uri": "https://localhost:8080/"
        },
        "id": "mn4zp-SO5aYR",
        "outputId": "fb152a7c-e9f6-4ffd-870a-a4f567fecc4e"
      },
      "execution_count": 37,
      "outputs": [
        {
          "output_type": "stream",
          "name": "stdout",
          "text": [
            "16.2 µs ± 1.57 µs per loop (mean ± std. dev. of 7 runs, 100000 loops each)\n"
          ]
        }
      ]
    },
    {
      "cell_type": "markdown",
      "source": [
        "So good to do as much as you can on the GPU and then only copy back the final result.\n",
        "\n",
        "Try to avoid copying the data back and forth between the CPU and the GPU."
      ],
      "metadata": {
        "id": "DbKyZgv850lJ"
      }
    }
  ]
}