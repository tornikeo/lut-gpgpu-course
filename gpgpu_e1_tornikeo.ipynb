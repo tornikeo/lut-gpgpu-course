{
  "nbformat": 4,
  "nbformat_minor": 0,
  "metadata": {
    "colab": {
      "provenance": [],
      "gpuType": "T4",
      "authorship_tag": "ABX9TyM6SXsinTDwUr9t1DbwwF7p",
      "include_colab_link": true
    },
    "kernelspec": {
      "name": "python3",
      "display_name": "Python 3"
    },
    "language_info": {
      "name": "python"
    },
    "accelerator": "GPU"
  },
  "cells": [
    {
      "cell_type": "markdown",
      "metadata": {
        "id": "view-in-github",
        "colab_type": "text"
      },
      "source": [
        "<a href=\"https://colab.research.google.com/github/tornikeo/lut-gpgpu-course/blob/main/gpgpu_e2_tornikeo.ipynb\" target=\"_parent\"><img src=\"https://colab.research.google.com/assets/colab-badge.svg\" alt=\"Open In Colab\"/></a>"
      ]
    },
    {
      "cell_type": "code",
      "execution_count": null,
      "metadata": {
        "id": "pPrh-AdG3II8",
        "colab": {
          "base_uri": "https://localhost:8080/"
        },
        "outputId": "47dd1f64-bed2-47b1-d460-2adb0aba9bef"
      },
      "outputs": [
        {
          "output_type": "stream",
          "name": "stdout",
          "text": [
            "Collecting pycuda\n",
            "  Downloading pycuda-2024.1.tar.gz (1.7 MB)\n",
            "\u001b[2K     \u001b[90m━━━━━━━━━━━━━━━━━━━━━━━━━━━━━━━━━━━━━━━━\u001b[0m \u001b[32m1.7/1.7 MB\u001b[0m \u001b[31m8.7 MB/s\u001b[0m eta \u001b[36m0:00:00\u001b[0m\n",
            "\u001b[?25h  Installing build dependencies ... \u001b[?25l\u001b[?25hdone\n",
            "  Getting requirements to build wheel ... \u001b[?25l\u001b[?25hdone\n",
            "  Preparing metadata (pyproject.toml) ... \u001b[?25l\u001b[?25hdone\n",
            "Collecting pytools>=2011.2 (from pycuda)\n",
            "  Downloading pytools-2023.1.1-py2.py3-none-any.whl (70 kB)\n",
            "\u001b[2K     \u001b[90m━━━━━━━━━━━━━━━━━━━━━━━━━━━━━━━━━━━━━━━━\u001b[0m \u001b[32m70.6/70.6 kB\u001b[0m \u001b[31m9.8 MB/s\u001b[0m eta \u001b[36m0:00:00\u001b[0m\n",
            "\u001b[?25hRequirement already satisfied: appdirs>=1.4.0 in /usr/local/lib/python3.10/dist-packages (from pycuda) (1.4.4)\n",
            "Collecting mako (from pycuda)\n",
            "  Downloading Mako-1.3.0-py3-none-any.whl (78 kB)\n",
            "\u001b[2K     \u001b[90m━━━━━━━━━━━━━━━━━━━━━━━━━━━━━━━━━━━━━━━━\u001b[0m \u001b[32m78.6/78.6 kB\u001b[0m \u001b[31m12.1 MB/s\u001b[0m eta \u001b[36m0:00:00\u001b[0m\n",
            "\u001b[?25hRequirement already satisfied: platformdirs>=2.2.0 in /usr/local/lib/python3.10/dist-packages (from pytools>=2011.2->pycuda) (4.1.0)\n",
            "Requirement already satisfied: typing-extensions>=4.0 in /usr/local/lib/python3.10/dist-packages (from pytools>=2011.2->pycuda) (4.5.0)\n",
            "Requirement already satisfied: MarkupSafe>=0.9.2 in /usr/local/lib/python3.10/dist-packages (from mako->pycuda) (2.1.3)\n",
            "Building wheels for collected packages: pycuda\n",
            "  Building wheel for pycuda (pyproject.toml) ... \u001b[?25l\u001b[?25hdone\n",
            "  Created wheel for pycuda: filename=pycuda-2024.1-cp310-cp310-linux_x86_64.whl size=661205 sha256=dfcae5a99670d9056effc630ab412c0cc985a926ecd93caf8e44ada1acac9889\n",
            "  Stored in directory: /root/.cache/pip/wheels/12/34/d2/9a349255a4eca3a486d82c79d21e138ce2ccd90f414d9d72b8\n",
            "Successfully built pycuda\n",
            "Installing collected packages: pytools, mako, pycuda\n",
            "Successfully installed mako-1.3.0 pycuda-2024.1 pytools-2023.1.1\n"
          ]
        }
      ],
      "source": [
        "! pip install pycuda"
      ]
    },
    {
      "cell_type": "code",
      "source": [
        "from math import ceil as roof\n",
        "import pycuda\n",
        "import pycuda.autoinit\n",
        "import pycuda.driver as cuda\n",
        "from pycuda.compiler import SourceModule\n",
        "import numpy as np"
      ],
      "metadata": {
        "id": "UkvP7vhP3Pt7"
      },
      "execution_count": null,
      "outputs": []
    },
    {
      "cell_type": "markdown",
      "source": [
        "## Task 1:\n",
        "\n",
        "a) Implement a kernel which takes two vectors A and B and adds them together to form a vector C."
      ],
      "metadata": {
        "id": "X3Sh1S6vRCQp"
      }
    },
    {
      "cell_type": "code",
      "source": [
        "size = int(2 ** 20)\n",
        "a = np.random.uniform(size=size)\n",
        "b = np.random.uniform(size=size)\n",
        "r = np.empty_like(a)"
      ],
      "metadata": {
        "id": "yd6Gy8gX3VWf"
      },
      "execution_count": null,
      "outputs": []
    },
    {
      "cell_type": "code",
      "source": [
        "a_cu = cuda.mem_alloc(a.nbytes)\n",
        "b_cu = cuda.mem_alloc(b.nbytes)\n",
        "r_cu = cuda.mem_alloc(r.nbytes)"
      ],
      "metadata": {
        "id": "QBBF6rQn3zPh"
      },
      "execution_count": null,
      "outputs": []
    },
    {
      "cell_type": "code",
      "source": [
        "kernel = SourceModule(\"\"\"\n",
        "__global__ void kernel(double* a, double* b, double* r, size_t n) {\n",
        "  auto th = threadIdx.x + blockIdx.x * blockDim.x;\n",
        "  if (th < n) {\n",
        "    r[th] = a[th] + b[th];\n",
        "  }\n",
        "}\n",
        "\"\"\").get_function('kernel')"
      ],
      "metadata": {
        "id": "SkH1AP8c644U"
      },
      "execution_count": null,
      "outputs": []
    },
    {
      "cell_type": "code",
      "source": [
        "cuda.memcpy_htod(a_cu, a)\n",
        "cuda.memcpy_htod(b_cu, b)\n",
        "cuda.memcpy_htod(r_cu, r)\n",
        "n = np.uint64(len(a))\n",
        "\n",
        "THREADS_PER_BLOCK = (1024,1,1)\n",
        "BLOCKS_PER_GRID = (roof(n / THREADS_PER_BLOCK[0]), 1, 1)\n",
        "\n",
        "kernel(a_cu, b_cu, r_cu, n,\n",
        "       block=THREADS_PER_BLOCK,\n",
        "       grid=BLOCKS_PER_GRID,)\n",
        "\n",
        "cuda.memcpy_dtoh(r, r_cu)\n",
        "\n",
        "assert np.allclose(a + b, r)"
      ],
      "metadata": {
        "id": "V7KN0s075533"
      },
      "execution_count": null,
      "outputs": []
    },
    {
      "cell_type": "markdown",
      "source": [
        "## Task 2:\n",
        "\n",
        "Implement a kernel which multiplies two matrices together.\n",
        "\n",
        "The kernel function call should be in the following form:\n",
        "```\n",
        "__global__ void matrix_multiplication(const double* A, const double* B, double* C, int N, int M, int K)\n",
        "```\n",
        "  Where:\n",
        "    N - number of rows for A\n",
        "    M - number of columns for A\n",
        "    K - number of columns for B"
      ],
      "metadata": {
        "id": "lJTqZaJiRHq0"
      }
    },
    {
      "cell_type": "code",
      "source": [
        "from pycuda import gpuarray\n",
        "\n",
        "N = np.int32(512)\n",
        "M = np.int32(1024)\n",
        "K = np.int32(1024)\n",
        "\n",
        "a = np.random.normal(size=(N,M))\n",
        "b = np.random.normal(size=(M,K))\n",
        "c = np.empty(shape=(N,K),dtype=a.dtype)\n",
        "\n",
        "a_cu = gpuarray.to_gpu(a)\n",
        "b_cu = gpuarray.to_gpu(b)\n",
        "c_cu = gpuarray.empty((N,K), np.float64)"
      ],
      "metadata": {
        "id": "FWakPHdf9stL"
      },
      "execution_count": null,
      "outputs": []
    },
    {
      "cell_type": "code",
      "source": [
        "kernel = SourceModule(\"\"\"\n",
        "__global__ void kernel(double* a, double* b, double* c,\n",
        "    int N, int M, int K) {\n",
        "    auto th_x = threadIdx.x + blockIdx.x * blockDim.x;\n",
        "    auto th_y = threadIdx.y + blockIdx.y * blockDim.y;\n",
        "    if (th_x < N && th_y < K) {\n",
        "      double s = 0;\n",
        "      for(auto i = 0; i < M; i++) {\n",
        "        s += (a[th_x * M + i] * b[i * K + th_y]);\n",
        "      }\n",
        "      c[th_x * K + th_y] = s;\n",
        "    }\n",
        "}\n",
        "\"\"\").get_function('kernel')\n",
        "\n",
        "THREADS_PER_BLOCK = 1,1,1\n",
        "BLOCKS_PER_GRID = roof(N / THREADS_PER_BLOCK[0]), \\\n",
        "                  roof(M / THREADS_PER_BLOCK[0]), \\\n",
        "                  1\n",
        "\n",
        "kernel(\n",
        "    a_cu, b_cu, c_cu, N, M, K,\n",
        "    block=THREADS_PER_BLOCK,\n",
        "    grid=BLOCKS_PER_GRID,\n",
        ")\n",
        "\n",
        "assert np.allclose(a @ b, c_cu.get())"
      ],
      "metadata": {
        "colab": {
          "base_uri": "https://localhost:8080/"
        },
        "id": "tPUwDdrkodl2",
        "outputId": "bbbbeb3c-fb6a-4af2-f6dc-d59948b69ced"
      },
      "execution_count": null,
      "outputs": [
        {
          "output_type": "stream",
          "name": "stderr",
          "text": [
            "/usr/local/lib/python3.10/dist-packages/google/colab/_variable_inspector.py:27: UserWarning: device_allocation in out-of-thread context could not be cleaned up\n",
            "  globals().clear()\n",
            "/usr/local/lib/python3.10/dist-packages/google/colab/_variable_inspector.py:27: UserWarning: module in out-of-thread context could not be cleaned up\n",
            "  globals().clear()\n"
          ]
        }
      ]
    },
    {
      "cell_type": "markdown",
      "source": [
        "## Task 3:\n",
        "\n",
        "Extend the kernel from task 2 to use shared memory."
      ],
      "metadata": {
        "id": "l6VHsYWLRXJy"
      }
    },
    {
      "cell_type": "code",
      "source": [
        "c_cu = gpuarray.empty((N,K), np.float64)\n",
        "\n",
        "# I'm stuck here...\n",
        "\n",
        "kernel = SourceModule(\"\"\"\n",
        "__global__ void kernel(double* a, double* b, double* c,\n",
        "    int N, int M, int K) {\n",
        "\n",
        "    const auto B = blockDim.x;\n",
        "\n",
        "    auto tx = threadIdx.x,\n",
        "         ty = threadIdx.y;\n",
        "    auto bx = tx + blockIdx.x * blockDim.x,\n",
        "         by = ty + blockIdx.y * blockDim.y;\n",
        "    auto gx = gridDim.x,\n",
        "         gy = gridDim.y;\n",
        "\n",
        "    __shared__ double blockA[B][B], blockB[B][B];\n",
        "\n",
        "    auto a_block_start = <stuck here>\n",
        "    auto b_block_start = <arrrgh>\n",
        "\n",
        "    double s = 0;\n",
        "    if (bx < N && by < K) {\n",
        "      for (int k = 0; k < gridDim.y; k++)\n",
        "      {\n",
        "        blockA[tx][ty] = a[bx * N + k*B + ty];\n",
        "        blockB[ty][tx] = b[by + (k*B + tx) * N];\n",
        "        __syncthreads();\n",
        "        for(int kk = 0; kk < B; kk++) {\n",
        "          s += a[kk][tx] * b[ty][kk];\n",
        "        }\n",
        "        __syncthreads();\n",
        "\n",
        "      }\n",
        "      c[bx][by] = s;\n",
        "    }\n",
        "}\n",
        "\"\"\").get_function('kernel')\n",
        "\n",
        "THREADS_PER_BLOCK = 1,1,1\n",
        "BLOCKS_PER_GRID = roof(N / THREADS_PER_BLOCK[0]), \\\n",
        "                  roof(M / THREADS_PER_BLOCK[0]), \\\n",
        "                  1\n",
        "\n",
        "kernel(\n",
        "    a_cu, b_cu, c_cu, N, M, K,\n",
        "    block=THREADS_PER_BLOCK,\n",
        "    grid=BLOCKS_PER_GRID,\n",
        ")\n",
        "\n",
        "assert np.allclose(a @ b, c_cu.get())"
      ],
      "metadata": {
        "colab": {
          "base_uri": "https://localhost:8080/",
          "height": 875
        },
        "id": "4mz7lGpivaYB",
        "outputId": "06f4b584-6211-41d9-f7e7-7cb19b569054"
      },
      "execution_count": null,
      "outputs": [
        {
          "output_type": "stream",
          "name": "stderr",
          "text": [
            "/usr/local/lib/python3.10/dist-packages/google/colab/_variable_inspector.py:27: UserWarning: device_allocation in out-of-thread context could not be cleaned up\n",
            "  globals().clear()\n",
            "<ipython-input-20-b3f01b29c519>:4: UserWarning: The CUDA compiler succeeded, but said the following:\n",
            "kernel.cu(9): warning #177-D: variable \"bx\" was declared but never referenced\n",
            "      auto bx = tx + blockIdx.x * blockDim.x,\n",
            "           ^\n",
            "\n",
            "Remark: The warnings can be suppressed with \"-diag-suppress <warning-number>\"\n",
            "\n",
            "kernel.cu(10): warning #177-D: variable \"by\" was declared but never referenced\n",
            "           by = ty + blockIdx.y * blockDim.y;\n",
            "           ^\n",
            "\n",
            "kernel.cu(11): warning #177-D: variable \"gx\" was declared but never referenced\n",
            "      auto gx = gridDim.x,\n",
            "           ^\n",
            "\n",
            "kernel.cu(12): warning #177-D: variable \"gy\" was declared but never referenced\n",
            "           gy = gridDim.y;\n",
            "           ^\n",
            "\n",
            "kernel.cu(14): warning #177-D: variable \"as\" was declared but never referenced\n",
            "      __attribute__((shared)) double as[B][B], bs[B][B];\n",
            "                                     ^\n",
            "\n",
            "kernel.cu(14): warning #177-D: variable \"bs\" was declared but never referenced\n",
            "      __attribute__((shared)) double as[B][B], bs[B][B];\n",
            "                                               ^\n",
            "\n",
            "kernel.cu(15): warning #177-D: variable \"s\" was declared but never referenced\n",
            "      double s = 0;\n",
            "             ^\n",
            "\n",
            "\n",
            "  kernel = SourceModule(\"\"\"\n",
            "/usr/local/lib/python3.10/dist-packages/google/colab/_variable_inspector.py:27: UserWarning: module in out-of-thread context could not be cleaned up\n",
            "  globals().clear()\n"
          ]
        },
        {
          "output_type": "error",
          "ename": "AssertionError",
          "evalue": "",
          "traceback": [
            "\u001b[0;31m---------------------------------------------------------------------------\u001b[0m",
            "\u001b[0;31mAssertionError\u001b[0m                            Traceback (most recent call last)",
            "\u001b[0;32m<ipython-input-20-b3f01b29c519>\u001b[0m in \u001b[0;36m<cell line: 44>\u001b[0;34m()\u001b[0m\n\u001b[1;32m     42\u001b[0m )\n\u001b[1;32m     43\u001b[0m \u001b[0;34m\u001b[0m\u001b[0m\n\u001b[0;32m---> 44\u001b[0;31m \u001b[0;32massert\u001b[0m \u001b[0mnp\u001b[0m\u001b[0;34m.\u001b[0m\u001b[0mallclose\u001b[0m\u001b[0;34m(\u001b[0m\u001b[0ma\u001b[0m \u001b[0;34m@\u001b[0m \u001b[0mb\u001b[0m\u001b[0;34m,\u001b[0m \u001b[0mc_cu\u001b[0m\u001b[0;34m.\u001b[0m\u001b[0mget\u001b[0m\u001b[0;34m(\u001b[0m\u001b[0;34m)\u001b[0m\u001b[0;34m)\u001b[0m\u001b[0;34m\u001b[0m\u001b[0;34m\u001b[0m\u001b[0m\n\u001b[0m",
            "\u001b[0;31mAssertionError\u001b[0m: "
          ]
        }
      ]
    }
  ]
}