{
 "cells": [
  {
   "cell_type": "code",
   "execution_count": 17,
   "metadata": {},
   "outputs": [
    {
     "data": {
      "text/plain": [
       "True"
      ]
     },
     "execution_count": 17,
     "metadata": {},
     "output_type": "execute_result"
    }
   ],
   "source": [
    "import cupy as cp\n",
    "import numpy as np\n",
    "cp.cuda.is_available()"
   ]
  },
  {
   "cell_type": "code",
   "execution_count": 3,
   "metadata": {},
   "outputs": [],
   "source": [
    "x = cp.array([1,2,3])"
   ]
  },
  {
   "cell_type": "code",
   "execution_count": 7,
   "metadata": {},
   "outputs": [
    {
     "data": {
      "text/plain": [
       "array(3.74165739)"
      ]
     },
     "execution_count": 7,
     "metadata": {},
     "output_type": "execute_result"
    }
   ],
   "source": [
    "cp.linalg.norm(x)"
   ]
  },
  {
   "cell_type": "code",
   "execution_count": 8,
   "metadata": {},
   "outputs": [
    {
     "data": {
      "text/plain": [
       "<CUDA Device 0>"
      ]
     },
     "execution_count": 8,
     "metadata": {},
     "output_type": "execute_result"
    }
   ],
   "source": [
    "x.device"
   ]
  },
  {
   "cell_type": "code",
   "execution_count": 11,
   "metadata": {},
   "outputs": [],
   "source": [
    "with cp.cuda.Device(0):\n",
    "    x = cp.arange(10)"
   ]
  },
  {
   "cell_type": "code",
   "execution_count": 12,
   "metadata": {},
   "outputs": [
    {
     "data": {
      "text/plain": [
       "<CUDA Device 0>"
      ]
     },
     "execution_count": 12,
     "metadata": {},
     "output_type": "execute_result"
    }
   ],
   "source": [
    "x.device"
   ]
  },
  {
   "cell_type": "code",
   "execution_count": 16,
   "metadata": {},
   "outputs": [],
   "source": [
    "# from cupy import ElementwiseKernel\n",
    "\n",
    "squared_diff = cp.ElementwiseKernel(\n",
    "    'float32 x, float32 y',\n",
    "    'float32 z',\n",
    "    'z = (x - y) * (x - y)',\n",
    "    'squared_diff'\n",
    ")"
   ]
  },
  {
   "cell_type": "code",
   "execution_count": 22,
   "metadata": {},
   "outputs": [
    {
     "data": {
      "text/plain": [
       "array([[ 0.,  0.,  0.,  0.,  0.],\n",
       "       [25., 25., 25., 25., 25.]], dtype=float32)"
      ]
     },
     "execution_count": 22,
     "metadata": {},
     "output_type": "execute_result"
    }
   ],
   "source": [
    "xp = cp.arange(10, dtype=np.float32).reshape(2,5)\n",
    "yp = cp.arange(5, dtype=np.float32)\n",
    "\n",
    "squared_diff(xp, yp)"
   ]
  },
  {
   "cell_type": "code",
   "execution_count": 21,
   "metadata": {},
   "outputs": [],
   "source": [
    "squared_diff_generic = cp.ElementwiseKernel(\n",
    "    'T x, T y',\n",
    "    'T z',\n",
    "    'z = (x - y) * (x - y)',\n",
    ")"
   ]
  },
  {
   "cell_type": "code",
   "execution_count": 23,
   "metadata": {},
   "outputs": [
    {
     "data": {
      "text/plain": [
       "array([[ 0.,  0.,  0.,  0.,  0.],\n",
       "       [25., 25., 25., 25., 25.]], dtype=float32)"
      ]
     },
     "execution_count": 23,
     "metadata": {},
     "output_type": "execute_result"
    }
   ],
   "source": [
    "squared_diff_generic(xp, yp)"
   ]
  },
  {
   "cell_type": "code",
   "execution_count": 27,
   "metadata": {},
   "outputs": [],
   "source": []
  },
  {
   "cell_type": "code",
   "execution_count": 32,
   "metadata": {},
   "outputs": [
    {
     "data": {
      "text/plain": [
       "array([ 0.,  2.,  4.,  6.,  8., 10., 12., 14., 16., 18.])"
      ]
     },
     "execution_count": 32,
     "metadata": {},
     "output_type": "execute_result"
    }
   ],
   "source": [
    "import math\n",
    "kernel = cp.RawKernel(\n",
    "    r\"\"\"\n",
    "    extern \"C\" __global__\n",
    "    void kernel(double* x, double* y, double* z) {\n",
    "        const int tx = threadIdx.x;\n",
    "        const int gx = tx + blockIdx.x * blockDim.x;\n",
    "        z[gx] = x[gx] + y[gx];\n",
    "    }\n",
    "    \"\"\",\n",
    "    'kernel'\n",
    ")\n",
    "\n",
    "xp = cp.arange(10, dtype='float64')\n",
    "yp = cp.arange(10, dtype='float64')\n",
    "zp = cp.empty_like(xp)\n",
    "\n",
    "n = len(xp)\n",
    "THREADS_PER_BLOCK = (4,1,1)\n",
    "BLOCKS_PER_GRID = (math.ceil(n / THREADS_PER_BLOCK[0]), 1, 1)\n",
    "kernel(\n",
    "    BLOCKS_PER_GRID, THREADS_PER_BLOCK,\n",
    "    (xp,yp,zp)\n",
    ")\n",
    "zp"
   ]
  }
 ],
 "metadata": {
  "kernelspec": {
   "display_name": "gpgpu",
   "language": "python",
   "name": "python3"
  },
  "language_info": {
   "codemirror_mode": {
    "name": "ipython",
    "version": 3
   },
   "file_extension": ".py",
   "mimetype": "text/x-python",
   "name": "python",
   "nbconvert_exporter": "python",
   "pygments_lexer": "ipython3",
   "version": "3.10.13"
  }
 },
 "nbformat": 4,
 "nbformat_minor": 2
}
